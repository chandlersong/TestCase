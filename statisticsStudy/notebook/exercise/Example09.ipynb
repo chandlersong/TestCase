{
 "cells": [
  {
   "cell_type": "code",
   "execution_count": 11,
   "metadata": {
    "collapsed": true
   },
   "outputs": [],
   "source": [
    "import pandas as pd\n",
    "import math\n",
    "from statsmodels.formula.api import ols"
   ]
  },
  {
   "cell_type": "code",
   "execution_count": 12,
   "metadata": {
    "collapsed": false
   },
   "outputs": [
    {
     "data": {
      "text/html": [
       "<table class=\"simpletable\">\n",
       "<caption>OLS Regression Results</caption>\n",
       "<tr>\n",
       "  <th>Dep. Variable:</th>        <td>Bad_Loan</td>     <th>  R-squared:         </th> <td>   0.798</td>\n",
       "</tr>\n",
       "<tr>\n",
       "  <th>Model:</th>                   <td>OLS</td>       <th>  Adj. R-squared:    </th> <td>   0.757</td>\n",
       "</tr>\n",
       "<tr>\n",
       "  <th>Method:</th>             <td>Least Squares</td>  <th>  F-statistic:       </th> <td>   19.70</td>\n",
       "</tr>\n",
       "<tr>\n",
       "  <th>Date:</th>             <td>Tue, 26 Jul 2016</td> <th>  Prob (F-statistic):</th> <td>1.04e-06</td>\n",
       "</tr>\n",
       "<tr>\n",
       "  <th>Time:</th>                 <td>23:01:00</td>     <th>  Log-Likelihood:    </th> <td> -47.082</td>\n",
       "</tr>\n",
       "<tr>\n",
       "  <th>No. Observations:</th>      <td>    25</td>      <th>  AIC:               </th> <td>   104.2</td>\n",
       "</tr>\n",
       "<tr>\n",
       "  <th>Df Residuals:</th>          <td>    20</td>      <th>  BIC:               </th> <td>   110.3</td>\n",
       "</tr>\n",
       "<tr>\n",
       "  <th>Df Model:</th>              <td>     4</td>      <th>                     </th>     <td> </td>   \n",
       "</tr>\n",
       "<tr>\n",
       "  <th>Covariance Type:</th>      <td>nonrobust</td>    <th>                     </th>     <td> </td>   \n",
       "</tr>\n",
       "</table>\n",
       "<table class=\"simpletable\">\n",
       "<tr>\n",
       "       <td></td>          <th>coef</th>     <th>std err</th>      <th>t</th>      <th>P>|t|</th> <th>[95.0% Conf. Int.]</th> \n",
       "</tr>\n",
       "<tr>\n",
       "  <th>Intercept</th>   <td>   -1.0216</td> <td>    0.782</td> <td>   -1.306</td> <td> 0.206</td> <td>   -2.654     0.610</td>\n",
       "</tr>\n",
       "<tr>\n",
       "  <th>Loan_left</th>   <td>    0.0400</td> <td>    0.010</td> <td>    3.837</td> <td> 0.001</td> <td>    0.018     0.062</td>\n",
       "</tr>\n",
       "<tr>\n",
       "  <th>Loan</th>        <td>    0.1480</td> <td>    0.079</td> <td>    1.879</td> <td> 0.075</td> <td>   -0.016     0.312</td>\n",
       "</tr>\n",
       "<tr>\n",
       "  <th>Loan_Number</th> <td>    0.0145</td> <td>    0.083</td> <td>    0.175</td> <td> 0.863</td> <td>   -0.159     0.188</td>\n",
       "</tr>\n",
       "<tr>\n",
       "  <th>investment</th>  <td>   -0.0292</td> <td>    0.015</td> <td>   -1.937</td> <td> 0.067</td> <td>   -0.061     0.002</td>\n",
       "</tr>\n",
       "</table>\n",
       "<table class=\"simpletable\">\n",
       "<tr>\n",
       "  <th>Omnibus:</th>       <td> 0.316</td> <th>  Durbin-Watson:     </th> <td>   2.626</td>\n",
       "</tr>\n",
       "<tr>\n",
       "  <th>Prob(Omnibus):</th> <td> 0.854</td> <th>  Jarque-Bera (JB):  </th> <td>   0.442</td>\n",
       "</tr>\n",
       "<tr>\n",
       "  <th>Skew:</th>          <td> 0.220</td> <th>  Prob(JB):          </th> <td>   0.802</td>\n",
       "</tr>\n",
       "<tr>\n",
       "  <th>Kurtosis:</th>      <td> 2.520</td> <th>  Cond. No.          </th> <td>    352.</td>\n",
       "</tr>\n",
       "</table>"
      ],
      "text/plain": [
       "<class 'statsmodels.iolib.summary.Summary'>\n",
       "\"\"\"\n",
       "                            OLS Regression Results                            \n",
       "==============================================================================\n",
       "Dep. Variable:               Bad_Loan   R-squared:                       0.798\n",
       "Model:                            OLS   Adj. R-squared:                  0.757\n",
       "Method:                 Least Squares   F-statistic:                     19.70\n",
       "Date:                Tue, 26 Jul 2016   Prob (F-statistic):           1.04e-06\n",
       "Time:                        23:01:00   Log-Likelihood:                -47.082\n",
       "No. Observations:                  25   AIC:                             104.2\n",
       "Df Residuals:                      20   BIC:                             110.3\n",
       "Df Model:                           4                                         \n",
       "Covariance Type:            nonrobust                                         \n",
       "===============================================================================\n",
       "                  coef    std err          t      P>|t|      [95.0% Conf. Int.]\n",
       "-------------------------------------------------------------------------------\n",
       "Intercept      -1.0216      0.782     -1.306      0.206        -2.654     0.610\n",
       "Loan_left       0.0400      0.010      3.837      0.001         0.018     0.062\n",
       "Loan            0.1480      0.079      1.879      0.075        -0.016     0.312\n",
       "Loan_Number     0.0145      0.083      0.175      0.863        -0.159     0.188\n",
       "investment     -0.0292      0.015     -1.937      0.067        -0.061     0.002\n",
       "==============================================================================\n",
       "Omnibus:                        0.316   Durbin-Watson:                   2.626\n",
       "Prob(Omnibus):                  0.854   Jarque-Bera (JB):                0.442\n",
       "Skew:                           0.220   Prob(JB):                        0.802\n",
       "Kurtosis:                       2.520   Cond. No.                         352.\n",
       "==============================================================================\n",
       "\n",
       "Warnings:\n",
       "[1] Standard Errors assume that the covariance matrix of the errors is correctly specified.\n",
       "\"\"\""
      ]
     },
     "execution_count": 12,
     "metadata": {},
     "output_type": "execute_result"
    }
   ],
   "source": [
    "data = pd.read_excel('multi_example.xlsx')\n",
    "data\n",
    "model = ols('Bad_Loan ~ Loan_left + Loan+Loan_Number+investment', data).fit()\n",
    "model.summary()"
   ]
  },
  {
   "cell_type": "code",
   "execution_count": 13,
   "metadata": {
    "collapsed": false
   },
   "outputs": [
    {
     "data": {
      "text/plain": [
       "statsmodels.regression.linear_model.RegressionResultsWrapper"
      ]
     },
     "execution_count": 13,
     "metadata": {},
     "output_type": "execute_result"
    }
   ],
   "source": [
    "type(model)"
   ]
  },
  {
   "cell_type": "markdown",
   "metadata": {},
   "source": [
    "the api is from here. but the class is different. just a wrap\n",
    "http://statsmodels.sourceforge.net/stable/generated/statsmodels.regression.linear_model.RegressionResults.html#statsmodels.regression.linear_model.RegressionResults"
   ]
  },
  {
   "cell_type": "code",
   "execution_count": 14,
   "metadata": {
    "collapsed": false
   },
   "outputs": [
    {
     "data": {
      "text/plain": [
       "0.8930867757863611"
      ]
     },
     "execution_count": 14,
     "metadata": {},
     "output_type": "execute_result"
    }
   ],
   "source": [
    "math.sqrt(model.rsquared)"
   ]
  },
  {
   "cell_type": "markdown",
   "metadata": {},
   "source": [
    "(SST,SSR,SSE,$S_e$,n-k-1)"
   ]
  },
  {
   "cell_type": "code",
   "execution_count": 15,
   "metadata": {
    "collapsed": false
   },
   "outputs": [
    {
     "data": {
      "text/plain": [
       "(312.65039999999999,\n",
       " 249.37120622885766,\n",
       " 63.279193771142317,\n",
       " 1.7787522842029229,\n",
       " 20.0)"
      ]
     },
     "execution_count": 15,
     "metadata": {},
     "output_type": "execute_result"
    }
   ],
   "source": [
    "(model.centered_tss,model.ess,model.ssr,math.sqrt(model.scale),model.df_resid)"
   ]
  },
  {
   "cell_type": "code",
   "execution_count": 16,
   "metadata": {
    "collapsed": false
   },
   "outputs": [
    {
     "data": {
      "text/plain": [
       "Intercept     -1.305823\n",
       "Loan_left      3.837495\n",
       "Loan           1.878738\n",
       "Loan_Number    0.174983\n",
       "investment    -1.936769\n",
       "dtype: float64"
      ]
     },
     "execution_count": 16,
     "metadata": {},
     "output_type": "execute_result"
    }
   ],
   "source": [
    "model.tvalues"
   ]
  },
  {
   "cell_type": "code",
   "execution_count": 17,
   "metadata": {
    "collapsed": false
   },
   "outputs": [
    {
     "data": {
      "text/plain": [
       "Intercept      0.206434\n",
       "Loan_left      0.001028\n",
       "Loan           0.074935\n",
       "Loan_Number    0.862853\n",
       "investment     0.067030\n",
       "dtype: float64"
      ]
     },
     "execution_count": 17,
     "metadata": {},
     "output_type": "execute_result"
    }
   ],
   "source": [
    "model.pvalues"
   ]
  },
  {
   "cell_type": "code",
   "execution_count": 18,
   "metadata": {
    "collapsed": false
   },
   "outputs": [
    {
     "data": {
      "text/html": [
       "<div>\n",
       "<table border=\"1\" class=\"dataframe\">\n",
       "  <thead>\n",
       "    <tr style=\"text-align: right;\">\n",
       "      <th></th>\n",
       "      <th>0</th>\n",
       "      <th>1</th>\n",
       "    </tr>\n",
       "  </thead>\n",
       "  <tbody>\n",
       "    <tr>\n",
       "      <th>Intercept</th>\n",
       "      <td>-2.653640</td>\n",
       "      <td>0.610360</td>\n",
       "    </tr>\n",
       "    <tr>\n",
       "      <th>Loan_left</th>\n",
       "      <td>0.018275</td>\n",
       "      <td>0.061804</td>\n",
       "    </tr>\n",
       "    <tr>\n",
       "      <th>Loan</th>\n",
       "      <td>-0.016328</td>\n",
       "      <td>0.312396</td>\n",
       "    </tr>\n",
       "    <tr>\n",
       "      <th>Loan_Number</th>\n",
       "      <td>-0.158675</td>\n",
       "      <td>0.187733</td>\n",
       "    </tr>\n",
       "    <tr>\n",
       "      <th>investment</th>\n",
       "      <td>-0.060635</td>\n",
       "      <td>0.002249</td>\n",
       "    </tr>\n",
       "  </tbody>\n",
       "</table>\n",
       "</div>"
      ],
      "text/plain": [
       "                    0         1\n",
       "Intercept   -2.653640  0.610360\n",
       "Loan_left    0.018275  0.061804\n",
       "Loan        -0.016328  0.312396\n",
       "Loan_Number -0.158675  0.187733\n",
       "investment  -0.060635  0.002249"
      ]
     },
     "execution_count": 18,
     "metadata": {},
     "output_type": "execute_result"
    }
   ],
   "source": [
    "model.conf_int()"
   ]
  }
 ],
 "metadata": {
  "kernelspec": {
   "display_name": "Python 3",
   "language": "python",
   "name": "python3"
  },
  "language_info": {
   "codemirror_mode": {
    "name": "ipython",
    "version": 3
   },
   "file_extension": ".py",
   "mimetype": "text/x-python",
   "name": "python",
   "nbconvert_exporter": "python",
   "pygments_lexer": "ipython3",
   "version": "3.5.1"
  }
 },
 "nbformat": 4,
 "nbformat_minor": 0
}
