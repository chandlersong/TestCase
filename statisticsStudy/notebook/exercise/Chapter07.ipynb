{
 "cells": [
  {
   "cell_type": "code",
   "execution_count": 74,
   "metadata": {
    "collapsed": false
   },
   "outputs": [],
   "source": [
    "import math\n",
    "import pandas as pd\n",
    "import numpy as np\n",
    "from pandas import DataFrame\n",
    "from scipy.stats import f,t\n",
    "from statsstudy.ANOVA import SingleAnalysisVariance,TwoFactorNonRepeatAnalysisVariance,TwoFactorRepeatAnalysisVariance"
   ]
  },
  {
   "cell_type": "markdown",
   "metadata": {},
   "source": [
    "## Exercise1"
   ]
  },
  {
   "cell_type": "markdown",
   "metadata": {},
   "source": [
    "$H_0: \\mu _1 = \\mu _2 = \\mu _3 = \\mu _4$ <br/>\n",
    "$H_1: \\mu _1 \\neq \\mu _2 \\neq \\mu _3 \\neq \\mu _4 $ <br/>"
   ]
  },
  {
   "cell_type": "code",
   "execution_count": 75,
   "metadata": {
    "collapsed": false
   },
   "outputs": [
    {
     "data": {
      "text/plain": [
       "(16.119999999999997, 24.009999999999998, 19.870000000000001, 16.02)"
      ]
     },
     "execution_count": 75,
     "metadata": {},
     "output_type": "execute_result"
    }
   ],
   "source": [
    "data = pd.read_excel('7_1.xls')\n",
    "sum1 = data.machine1.sum()\n",
    "count1 = data.machine1.count()\n",
    "mean1 = data.machine1.mean()\n",
    "sum2 = data.machine2.sum()\n",
    "count2 = data.machine2.count()\n",
    "mean2 = data.machine2.mean()\n",
    "sum3 = data.machine3.sum()\n",
    "count3 = data.machine3.count()\n",
    "mean3 = data.machine3.mean()\n",
    "sum4 = data.machine4.sum()\n",
    "count4 = data.machine4.count()\n",
    "mean4 = data.machine4.mean()\n",
    "\n",
    "(sum1,sum2,sum3,sum4)"
   ]
  },
  {
   "cell_type": "code",
   "execution_count": 76,
   "metadata": {
    "collapsed": false
   },
   "outputs": [
    {
     "data": {
      "text/plain": [
       "(4, 6, 5, 4)"
      ]
     },
     "execution_count": 76,
     "metadata": {},
     "output_type": "execute_result"
    }
   ],
   "source": [
    "(count1,count2,count3,count4)"
   ]
  },
  {
   "cell_type": "code",
   "execution_count": 77,
   "metadata": {
    "collapsed": false
   },
   "outputs": [
    {
     "data": {
      "text/plain": [
       "19"
      ]
     },
     "execution_count": 77,
     "metadata": {},
     "output_type": "execute_result"
    }
   ],
   "source": [
    "total_count = count1+count2+count3+count4\n",
    "total_count"
   ]
  },
  {
   "cell_type": "code",
   "execution_count": 78,
   "metadata": {
    "collapsed": false
   },
   "outputs": [
    {
     "data": {
      "text/plain": [
       "(4.0299999999999994, 4.001666666666666, 3.9740000000000002, 4.0049999999999999)"
      ]
     },
     "execution_count": 78,
     "metadata": {},
     "output_type": "execute_result"
    }
   ],
   "source": [
    "(mean1,mean2,mean3,mean4)"
   ]
  },
  {
   "cell_type": "code",
   "execution_count": 79,
   "metadata": {
    "collapsed": false
   },
   "outputs": [
    {
     "data": {
      "text/plain": [
       "(0.0003333333333333369,\n",
       " 0.00013666666666666086,\n",
       " 0.00032999999999999702,\n",
       " 0.00016666666666665956)"
      ]
     },
     "execution_count": 79,
     "metadata": {},
     "output_type": "execute_result"
    }
   ],
   "source": [
    "(data.machine1.var(),data.machine2.var(),data.machine3.var(),data.machine4.var())"
   ]
  },
  {
   "cell_type": "code",
   "execution_count": 80,
   "metadata": {
    "collapsed": false
   },
   "outputs": [
    {
     "data": {
      "text/plain": [
       "4.001052631578947"
      ]
     },
     "execution_count": 80,
     "metadata": {},
     "output_type": "execute_result"
    }
   ],
   "source": [
    "total_mean = (sum1+sum2+sum3+sum4)/total_count\n",
    "total_mean"
   ]
  },
  {
   "cell_type": "code",
   "execution_count": 81,
   "metadata": {
    "collapsed": false
   },
   "outputs": [
    {
     "data": {
      "text/plain": [
       "0.0070756140350875102"
      ]
     },
     "execution_count": 81,
     "metadata": {},
     "output_type": "execute_result"
    }
   ],
   "source": [
    "ss_group = count1*(mean1-total_mean)**2+count2*(mean2-total_mean)**2 +count3*(mean3-total_mean)**2 +count4*(mean4-total_mean)**2\n",
    "ss_group"
   ]
  },
  {
   "cell_type": "code",
   "execution_count": 82,
   "metadata": {
    "collapsed": false
   },
   "outputs": [
    {
     "data": {
      "text/plain": [
       "0.0023585380116958369"
      ]
     },
     "execution_count": 82,
     "metadata": {},
     "output_type": "execute_result"
    }
   ],
   "source": [
    "ms_group = ss_group/(3)\n",
    "ms_group"
   ]
  },
  {
   "cell_type": "code",
   "execution_count": 83,
   "metadata": {
    "collapsed": false
   },
   "outputs": [
    {
     "data": {
      "text/plain": [
       "0.003503333333333282"
      ]
     },
     "execution_count": 83,
     "metadata": {},
     "output_type": "execute_result"
    }
   ],
   "source": [
    "ss_inside = (count1-1)*data.machine1.var() + (count2-1)*data.machine2.var()+(count3-1)*data.machine3.var()+(count4-1)*data.machine4.var()\n",
    "ss_inside"
   ]
  },
  {
   "cell_type": "code",
   "execution_count": 84,
   "metadata": {
    "collapsed": false
   },
   "outputs": [
    {
     "data": {
      "text/plain": [
       "0.00023355555555555212"
      ]
     },
     "execution_count": 84,
     "metadata": {},
     "output_type": "execute_result"
    }
   ],
   "source": [
    "ms_inside = ss_inside/(total_count-4)\n",
    "ms_inside "
   ]
  },
  {
   "cell_type": "code",
   "execution_count": 85,
   "metadata": {
    "collapsed": false
   },
   "outputs": [
    {
     "data": {
      "text/plain": [
       "10.098402523911915"
      ]
     },
     "execution_count": 85,
     "metadata": {},
     "output_type": "execute_result"
    }
   ],
   "source": [
    "f_value = ms_group/ms_inside\n",
    "f_value"
   ]
  },
  {
   "cell_type": "code",
   "execution_count": 86,
   "metadata": {
    "collapsed": false
   },
   "outputs": [
    {
     "data": {
      "text/plain": [
       "(0.11490462163628182, 3.2873821046365115)"
      ]
     },
     "execution_count": 86,
     "metadata": {},
     "output_type": "execute_result"
    }
   ],
   "source": [
    "f_distribute = f(3,15)\n",
    "(f_distribute.ppf(0.05),f_distribute.ppf(1-0.05))"
   ]
  },
  {
   "cell_type": "code",
   "execution_count": 87,
   "metadata": {
    "collapsed": false
   },
   "outputs": [
    {
     "data": {
      "text/plain": [
       "2.4897877338778138"
      ]
     },
     "execution_count": 87,
     "metadata": {},
     "output_type": "execute_result"
    }
   ],
   "source": [
    "f_distribute.ppf(0.90)"
   ]
  },
  {
   "cell_type": "code",
   "execution_count": 88,
   "metadata": {
    "collapsed": false
   },
   "outputs": [
    {
     "data": {
      "text/plain": [
       "0.00068533544064767853"
      ]
     },
     "execution_count": 88,
     "metadata": {},
     "output_type": "execute_result"
    }
   ],
   "source": [
    "f_distribute.sf(f_value)"
   ]
  },
  {
   "cell_type": "code",
   "execution_count": 89,
   "metadata": {
    "collapsed": false
   },
   "outputs": [
    {
     "data": {
      "text/plain": [
       "0.90989694256939568"
      ]
     },
     "execution_count": 89,
     "metadata": {},
     "output_type": "execute_result"
    }
   ],
   "source": [
    "Relationship = ms_group/(ms_group+ms_inside)\n",
    "Relationship"
   ]
  },
  {
   "cell_type": "markdown",
   "metadata": {},
   "source": [
    "## Exercise2"
   ]
  },
  {
   "cell_type": "code",
   "execution_count": 90,
   "metadata": {
    "collapsed": false
   },
   "outputs": [
    {
     "data": {
      "text/plain": [
       "18"
      ]
     },
     "execution_count": 90,
     "metadata": {},
     "output_type": "execute_result"
    }
   ],
   "source": [
    "data = pd.read_excel('7_2.xls')\n",
    "n= data.notnull().sum().sum()\n",
    "n"
   ]
  },
  {
   "cell_type": "code",
   "execution_count": 91,
   "metadata": {
    "collapsed": false
   },
   "outputs": [
    {
     "data": {
      "text/html": [
       "<div>\n",
       "<table border=\"1\" class=\"dataframe\">\n",
       "  <thead>\n",
       "    <tr style=\"text-align: right;\">\n",
       "      <th></th>\n",
       "      <th>mean</th>\n",
       "      <th>count</th>\n",
       "      <th>sum</th>\n",
       "      <th>var</th>\n",
       "      <th>sumdiff</th>\n",
       "    </tr>\n",
       "  </thead>\n",
       "  <tbody>\n",
       "    <tr>\n",
       "      <th>高级管理者</th>\n",
       "      <td>7.600000</td>\n",
       "      <td>5</td>\n",
       "      <td>38.0</td>\n",
       "      <td>0.800000</td>\n",
       "      <td>3.200000</td>\n",
       "    </tr>\n",
       "    <tr>\n",
       "      <th>中级管理者</th>\n",
       "      <td>8.857143</td>\n",
       "      <td>7</td>\n",
       "      <td>62.0</td>\n",
       "      <td>0.809524</td>\n",
       "      <td>4.857143</td>\n",
       "    </tr>\n",
       "    <tr>\n",
       "      <th>低级管理者</th>\n",
       "      <td>5.833333</td>\n",
       "      <td>6</td>\n",
       "      <td>35.0</td>\n",
       "      <td>2.166667</td>\n",
       "      <td>10.833333</td>\n",
       "    </tr>\n",
       "  </tbody>\n",
       "</table>\n",
       "</div>"
      ],
      "text/plain": [
       "           mean  count   sum       var    sumdiff\n",
       "高级管理者  7.600000      5  38.0  0.800000   3.200000\n",
       "中级管理者  8.857143      7  62.0  0.809524   4.857143\n",
       "低级管理者  5.833333      6  35.0  2.166667  10.833333"
      ]
     },
     "execution_count": 91,
     "metadata": {},
     "output_type": "execute_result"
    }
   ],
   "source": [
    "statics_df = DataFrame()\n",
    "statics_df['mean']=data.mean()\n",
    "statics_df['count']=data.count()\n",
    "statics_df['sum']=data.sum()\n",
    "statics_df['var']=data.var()\n",
    "statics_df['sumdiff']=data.var()*(statics_df['count']-1)\n",
    "statics_df"
   ]
  },
  {
   "cell_type": "code",
   "execution_count": 92,
   "metadata": {
    "collapsed": false
   },
   "outputs": [
    {
     "data": {
      "text/plain": [
       "3"
      ]
     },
     "execution_count": 92,
     "metadata": {},
     "output_type": "execute_result"
    }
   ],
   "source": [
    "statics_df.shape[0]"
   ]
  },
  {
   "cell_type": "code",
   "execution_count": 93,
   "metadata": {
    "collapsed": false
   },
   "outputs": [
    {
     "data": {
      "text/plain": [
       "7.5"
      ]
     },
     "execution_count": 93,
     "metadata": {},
     "output_type": "execute_result"
    }
   ],
   "source": [
    "total_mean = statics_df['sum'].sum()/statics_df['count'].sum()\n",
    "total_mean"
   ]
  },
  {
   "cell_type": "code",
   "execution_count": 94,
   "metadata": {
    "collapsed": false
   },
   "outputs": [
    {
     "data": {
      "text/plain": [
       "29.609523809523822"
      ]
     },
     "execution_count": 94,
     "metadata": {},
     "output_type": "execute_result"
    }
   ],
   "source": [
    "between_group_ss = (statics_df['count']*(statics_df['mean'] - total_mean)**2).sum()\n",
    "between_group_ss"
   ]
  },
  {
   "cell_type": "code",
   "execution_count": 95,
   "metadata": {
    "collapsed": false
   },
   "outputs": [
    {
     "data": {
      "text/plain": [
       "14.804761904761911"
      ]
     },
     "execution_count": 95,
     "metadata": {},
     "output_type": "execute_result"
    }
   ],
   "source": [
    "ms_between_group = between_group_ss/(statics_df.shape[0]-1)\n",
    "ms_between_group"
   ]
  },
  {
   "cell_type": "code",
   "execution_count": 96,
   "metadata": {
    "collapsed": false
   },
   "outputs": [
    {
     "data": {
      "text/plain": [
       "18.890476190476189"
      ]
     },
     "execution_count": 96,
     "metadata": {},
     "output_type": "execute_result"
    }
   ],
   "source": [
    "inside_group_ss = statics_df['sumdiff'].sum()\n",
    "inside_group_ss "
   ]
  },
  {
   "cell_type": "code",
   "execution_count": 97,
   "metadata": {
    "collapsed": false
   },
   "outputs": [
    {
     "data": {
      "text/plain": [
       "1.2593650793650792"
      ]
     },
     "execution_count": 97,
     "metadata": {},
     "output_type": "execute_result"
    }
   ],
   "source": [
    "ms_inside_group = inside_group_ss/(n-statics_df.shape[0])\n",
    "ms_inside_group"
   ]
  },
  {
   "cell_type": "code",
   "execution_count": 98,
   "metadata": {
    "collapsed": false
   },
   "outputs": [
    {
     "data": {
      "text/plain": [
       "11.755734812200661"
      ]
     },
     "execution_count": 98,
     "metadata": {},
     "output_type": "execute_result"
    }
   ],
   "source": [
    "f_value= ms_between_group/ms_inside_group\n",
    "f_value"
   ]
  },
  {
   "cell_type": "code",
   "execution_count": 99,
   "metadata": {
    "collapsed": false
   },
   "outputs": [
    {
     "data": {
      "text/plain": [
       "3.6823203436732412"
      ]
     },
     "execution_count": 99,
     "metadata": {},
     "output_type": "execute_result"
    }
   ],
   "source": [
    "f_distribute = f(statics_df.shape[0]-1,n - statics_df.shape[0])\n",
    "f_distribute.isf(0.05)"
   ]
  },
  {
   "cell_type": "code",
   "execution_count": 100,
   "metadata": {
    "collapsed": false
   },
   "outputs": [
    {
     "data": {
      "text/plain": [
       "0.00084870889432867198"
      ]
     },
     "execution_count": 100,
     "metadata": {},
     "output_type": "execute_result"
    }
   ],
   "source": [
    "f_distribute.sf(f_value)"
   ]
  },
  {
   "cell_type": "markdown",
   "metadata": {},
   "source": [
    "## Exercise3"
   ]
  },
  {
   "cell_type": "code",
   "execution_count": 101,
   "metadata": {
    "collapsed": false
   },
   "outputs": [],
   "source": [
    "data = pd.read_excel('7_3.xls',skiprows=1,index_col=0)\n",
    "ea3 = SingleAnalysisVariance(data) # ea mean exercise analysis"
   ]
  },
  {
   "cell_type": "code",
   "execution_count": 102,
   "metadata": {
    "collapsed": false
   },
   "outputs": [
    {
     "name": "stdout",
     "output_type": "stream",
     "text": [
      "n:15\n",
      "k:3\n",
      "total mean:39.0\n",
      "between group ss:615.6\n",
      "ms between group:307.8\n",
      "inside group ss:216.4\n",
      "ms inside group:18.0333333333\n",
      "f:17.0683918669\n",
      "p value:0.000309601874063\n",
      "f crit:3.88529383465\n"
     ]
    }
   ],
   "source": [
    "ea3.printInfo()"
   ]
  },
  {
   "cell_type": "code",
   "execution_count": 103,
   "metadata": {
    "collapsed": false,
    "scrolled": true
   },
   "outputs": [
    {
     "data": {
      "text/html": [
       "<div>\n",
       "<table border=\"1\" class=\"dataframe\">\n",
       "  <thead>\n",
       "    <tr style=\"text-align: right;\">\n",
       "      <th></th>\n",
       "      <th>mean</th>\n",
       "      <th>count</th>\n",
       "      <th>sum</th>\n",
       "      <th>var</th>\n",
       "      <th>sumdiff</th>\n",
       "    </tr>\n",
       "  </thead>\n",
       "  <tbody>\n",
       "    <tr>\n",
       "      <th>A</th>\n",
       "      <td>44.4</td>\n",
       "      <td>5</td>\n",
       "      <td>222</td>\n",
       "      <td>28.3</td>\n",
       "      <td>113.2</td>\n",
       "    </tr>\n",
       "    <tr>\n",
       "      <th>B</th>\n",
       "      <td>30.0</td>\n",
       "      <td>5</td>\n",
       "      <td>150</td>\n",
       "      <td>10.0</td>\n",
       "      <td>40.0</td>\n",
       "    </tr>\n",
       "    <tr>\n",
       "      <th>C</th>\n",
       "      <td>42.6</td>\n",
       "      <td>5</td>\n",
       "      <td>213</td>\n",
       "      <td>15.8</td>\n",
       "      <td>63.2</td>\n",
       "    </tr>\n",
       "  </tbody>\n",
       "</table>\n",
       "</div>"
      ],
      "text/plain": [
       "   mean  count  sum   var  sumdiff\n",
       "A  44.4      5  222  28.3    113.2\n",
       "B  30.0      5  150  10.0     40.0\n",
       "C  42.6      5  213  15.8     63.2"
      ]
     },
     "execution_count": 103,
     "metadata": {},
     "output_type": "execute_result"
    }
   ],
   "source": [
    "ea3.statistics_info"
   ]
  },
  {
   "cell_type": "markdown",
   "metadata": {},
   "source": [
    "## Exercise5"
   ]
  },
  {
   "cell_type": "code",
   "execution_count": 104,
   "metadata": {
    "collapsed": false
   },
   "outputs": [
    {
     "data": {
      "text/html": [
       "<div>\n",
       "<table border=\"1\" class=\"dataframe\">\n",
       "  <thead>\n",
       "    <tr style=\"text-align: right;\">\n",
       "      <th></th>\n",
       "      <th>1</th>\n",
       "      <th>2</th>\n",
       "      <th>3</th>\n",
       "      <th>4</th>\n",
       "    </tr>\n",
       "  </thead>\n",
       "  <tbody>\n",
       "    <tr>\n",
       "      <th>1</th>\n",
       "      <td>12.0</td>\n",
       "      <td>9.5</td>\n",
       "      <td>10.4</td>\n",
       "      <td>9.7</td>\n",
       "    </tr>\n",
       "    <tr>\n",
       "      <th>2</th>\n",
       "      <td>13.7</td>\n",
       "      <td>11.5</td>\n",
       "      <td>12.4</td>\n",
       "      <td>9.6</td>\n",
       "    </tr>\n",
       "    <tr>\n",
       "      <th>3</th>\n",
       "      <td>14.3</td>\n",
       "      <td>12.3</td>\n",
       "      <td>11.4</td>\n",
       "      <td>11.1</td>\n",
       "    </tr>\n",
       "    <tr>\n",
       "      <th>4</th>\n",
       "      <td>14.2</td>\n",
       "      <td>14.0</td>\n",
       "      <td>12.5</td>\n",
       "      <td>12.0</td>\n",
       "    </tr>\n",
       "    <tr>\n",
       "      <th>5</th>\n",
       "      <td>13.0</td>\n",
       "      <td>14.0</td>\n",
       "      <td>13.1</td>\n",
       "      <td>11.4</td>\n",
       "    </tr>\n",
       "  </tbody>\n",
       "</table>\n",
       "</div>"
      ],
      "text/plain": [
       "      1     2     3     4\n",
       "1  12.0   9.5  10.4   9.7\n",
       "2  13.7  11.5  12.4   9.6\n",
       "3  14.3  12.3  11.4  11.1\n",
       "4  14.2  14.0  12.5  12.0\n",
       "5  13.0  14.0  13.1  11.4"
      ]
     },
     "execution_count": 104,
     "metadata": {},
     "output_type": "execute_result"
    }
   ],
   "source": [
    "data = pd.read_excel('7_5.xls',skiprows=1,index_col=0)\n",
    "data"
   ]
  },
  {
   "cell_type": "code",
   "execution_count": 105,
   "metadata": {
    "collapsed": false
   },
   "outputs": [
    {
     "name": "stdout",
     "output_type": "stream",
     "text": [
      "r:4\n",
      "k:5\n",
      "line ss:19.067\n",
      "line ms:4.76675\n",
      "line f:7.23971649158\n",
      "line p value:0.00331519021732\n",
      "line f crit:3.2591667269\n",
      "column between group ss:18.1815\n",
      "column ms between group:6.0605\n",
      "column f:9.20465763827\n",
      "column p value:0.00194910982013\n",
      "columnne f crit:3.4902948195\n",
      "error between group ss:7.901\n",
      "error ms between group:0.658416666667\n"
     ]
    }
   ],
   "source": [
    "ea5 = TwoFactorNonRepeatAnalysisVariance(data)\n",
    "ea5.printInfo()"
   ]
  },
  {
   "cell_type": "code",
   "execution_count": 106,
   "metadata": {
    "collapsed": false
   },
   "outputs": [
    {
     "data": {
      "text/html": [
       "<div>\n",
       "<table border=\"1\" class=\"dataframe\">\n",
       "  <thead>\n",
       "    <tr style=\"text-align: right;\">\n",
       "      <th></th>\n",
       "      <th>mean</th>\n",
       "      <th>count</th>\n",
       "      <th>sum</th>\n",
       "      <th>var</th>\n",
       "      <th>sumdiff</th>\n",
       "    </tr>\n",
       "  </thead>\n",
       "  <tbody>\n",
       "    <tr>\n",
       "      <th>1</th>\n",
       "      <td>13.44</td>\n",
       "      <td>5</td>\n",
       "      <td>67.2</td>\n",
       "      <td>0.913</td>\n",
       "      <td>3.652</td>\n",
       "    </tr>\n",
       "    <tr>\n",
       "      <th>2</th>\n",
       "      <td>12.26</td>\n",
       "      <td>5</td>\n",
       "      <td>61.3</td>\n",
       "      <td>3.563</td>\n",
       "      <td>14.252</td>\n",
       "    </tr>\n",
       "    <tr>\n",
       "      <th>3</th>\n",
       "      <td>11.96</td>\n",
       "      <td>5</td>\n",
       "      <td>59.8</td>\n",
       "      <td>1.133</td>\n",
       "      <td>4.532</td>\n",
       "    </tr>\n",
       "    <tr>\n",
       "      <th>4</th>\n",
       "      <td>10.76</td>\n",
       "      <td>5</td>\n",
       "      <td>53.8</td>\n",
       "      <td>1.133</td>\n",
       "      <td>4.532</td>\n",
       "    </tr>\n",
       "  </tbody>\n",
       "</table>\n",
       "</div>"
      ],
      "text/plain": [
       "    mean  count   sum    var  sumdiff\n",
       "1  13.44      5  67.2  0.913    3.652\n",
       "2  12.26      5  61.3  3.563   14.252\n",
       "3  11.96      5  59.8  1.133    4.532\n",
       "4  10.76      5  53.8  1.133    4.532"
      ]
     },
     "execution_count": 106,
     "metadata": {},
     "output_type": "execute_result"
    }
   ],
   "source": [
    "ea5.c_statistics_info"
   ]
  },
  {
   "cell_type": "code",
   "execution_count": 107,
   "metadata": {
    "collapsed": false
   },
   "outputs": [
    {
     "data": {
      "text/html": [
       "<div>\n",
       "<table border=\"1\" class=\"dataframe\">\n",
       "  <thead>\n",
       "    <tr style=\"text-align: right;\">\n",
       "      <th></th>\n",
       "      <th>mean</th>\n",
       "      <th>count</th>\n",
       "      <th>sum</th>\n",
       "      <th>var</th>\n",
       "      <th>sumdiff</th>\n",
       "    </tr>\n",
       "  </thead>\n",
       "  <tbody>\n",
       "    <tr>\n",
       "      <th>1</th>\n",
       "      <td>10.400</td>\n",
       "      <td>4</td>\n",
       "      <td>41.6</td>\n",
       "      <td>1.286667</td>\n",
       "      <td>3.8600</td>\n",
       "    </tr>\n",
       "    <tr>\n",
       "      <th>2</th>\n",
       "      <td>11.800</td>\n",
       "      <td>4</td>\n",
       "      <td>47.2</td>\n",
       "      <td>2.966667</td>\n",
       "      <td>8.9000</td>\n",
       "    </tr>\n",
       "    <tr>\n",
       "      <th>3</th>\n",
       "      <td>12.275</td>\n",
       "      <td>4</td>\n",
       "      <td>49.1</td>\n",
       "      <td>2.082500</td>\n",
       "      <td>6.2475</td>\n",
       "    </tr>\n",
       "    <tr>\n",
       "      <th>4</th>\n",
       "      <td>13.175</td>\n",
       "      <td>4</td>\n",
       "      <td>52.7</td>\n",
       "      <td>1.189167</td>\n",
       "      <td>3.5675</td>\n",
       "    </tr>\n",
       "    <tr>\n",
       "      <th>5</th>\n",
       "      <td>12.875</td>\n",
       "      <td>4</td>\n",
       "      <td>51.5</td>\n",
       "      <td>1.169167</td>\n",
       "      <td>3.5075</td>\n",
       "    </tr>\n",
       "  </tbody>\n",
       "</table>\n",
       "</div>"
      ],
      "text/plain": [
       "     mean  count   sum       var  sumdiff\n",
       "1  10.400      4  41.6  1.286667   3.8600\n",
       "2  11.800      4  47.2  2.966667   8.9000\n",
       "3  12.275      4  49.1  2.082500   6.2475\n",
       "4  13.175      4  52.7  1.189167   3.5675\n",
       "5  12.875      4  51.5  1.169167   3.5075"
      ]
     },
     "execution_count": 107,
     "metadata": {},
     "output_type": "execute_result"
    }
   ],
   "source": [
    "ea5.l_statistics_info"
   ]
  },
  {
   "cell_type": "markdown",
   "metadata": {},
   "source": [
    "## Exercise 6"
   ]
  },
  {
   "cell_type": "code",
   "execution_count": 108,
   "metadata": {
    "collapsed": false
   },
   "outputs": [
    {
     "data": {
      "text/html": [
       "<div>\n",
       "<table border=\"1\" class=\"dataframe\">\n",
       "  <thead>\n",
       "    <tr style=\"text-align: right;\">\n",
       "      <th></th>\n",
       "      <th>road1</th>\n",
       "      <th>road2</th>\n",
       "      <th>road3</th>\n",
       "    </tr>\n",
       "    <tr>\n",
       "      <th>index</th>\n",
       "      <th></th>\n",
       "      <th></th>\n",
       "      <th></th>\n",
       "    </tr>\n",
       "  </thead>\n",
       "  <tbody>\n",
       "    <tr>\n",
       "      <th>高峰期</th>\n",
       "      <td>36.5</td>\n",
       "      <td>28.1</td>\n",
       "      <td>32.4</td>\n",
       "    </tr>\n",
       "    <tr>\n",
       "      <th>高峰期</th>\n",
       "      <td>34.1</td>\n",
       "      <td>29.9</td>\n",
       "      <td>33.0</td>\n",
       "    </tr>\n",
       "    <tr>\n",
       "      <th>高峰期</th>\n",
       "      <td>37.2</td>\n",
       "      <td>32.2</td>\n",
       "      <td>36.2</td>\n",
       "    </tr>\n",
       "    <tr>\n",
       "      <th>高峰期</th>\n",
       "      <td>35.6</td>\n",
       "      <td>31.5</td>\n",
       "      <td>35.5</td>\n",
       "    </tr>\n",
       "    <tr>\n",
       "      <th>高峰期</th>\n",
       "      <td>38.0</td>\n",
       "      <td>30.1</td>\n",
       "      <td>35.1</td>\n",
       "    </tr>\n",
       "    <tr>\n",
       "      <th>非高峰期</th>\n",
       "      <td>30.6</td>\n",
       "      <td>27.6</td>\n",
       "      <td>31.8</td>\n",
       "    </tr>\n",
       "    <tr>\n",
       "      <th>非高峰期</th>\n",
       "      <td>27.9</td>\n",
       "      <td>24.3</td>\n",
       "      <td>28.0</td>\n",
       "    </tr>\n",
       "    <tr>\n",
       "      <th>非高峰期</th>\n",
       "      <td>32.4</td>\n",
       "      <td>22.0</td>\n",
       "      <td>26.7</td>\n",
       "    </tr>\n",
       "    <tr>\n",
       "      <th>非高峰期</th>\n",
       "      <td>31.8</td>\n",
       "      <td>25.4</td>\n",
       "      <td>29.3</td>\n",
       "    </tr>\n",
       "    <tr>\n",
       "      <th>非高峰期</th>\n",
       "      <td>27.3</td>\n",
       "      <td>21.7</td>\n",
       "      <td>25.6</td>\n",
       "    </tr>\n",
       "  </tbody>\n",
       "</table>\n",
       "</div>"
      ],
      "text/plain": [
       "       road1  road2  road3\n",
       "index                     \n",
       "高峰期     36.5   28.1   32.4\n",
       "高峰期     34.1   29.9   33.0\n",
       "高峰期     37.2   32.2   36.2\n",
       "高峰期     35.6   31.5   35.5\n",
       "高峰期     38.0   30.1   35.1\n",
       "非高峰期    30.6   27.6   31.8\n",
       "非高峰期    27.9   24.3   28.0\n",
       "非高峰期    32.4   22.0   26.7\n",
       "非高峰期    31.8   25.4   29.3\n",
       "非高峰期    27.3   21.7   25.6"
      ]
     },
     "execution_count": 108,
     "metadata": {},
     "output_type": "execute_result"
    }
   ],
   "source": [
    "data = pd.read_excel('7_6.xls')\n",
    "data\n",
    "data.reset_index(level=0, inplace=True)\n",
    "data.fillna(method='ffill',inplace=True)\n",
    "data = data.set_index('index')\n",
    "data"
   ]
  },
  {
   "cell_type": "code",
   "execution_count": 109,
   "metadata": {
    "collapsed": false
   },
   "outputs": [
    {
     "name": "stdout",
     "output_type": "stream",
     "text": [
      "r:3\n",
      "s:2\n",
      "t:5\n",
      "line ss:288.3\n",
      "line ms:288.3\n",
      "line f:70.3313681643\n",
      "line p value:1.35577900759e-08\n",
      "line f crit:4.25967727269\n",
      "column between group ss:180.514666667\n",
      "column ms between group:90.2573333333\n",
      "column f:22.0184590364\n",
      "column p value:3.71192597963e-06\n",
      "columnne f crit:3.40282610535\n",
      "corr between group ss:0.024\n",
      "corr ms between group:0.012\n",
      "corr f:0.00292742427323\n",
      "corr p value:0.997077212429\n",
      "corr f crit:3.40282610535\n",
      "error between group ss:98.38\n",
      "error ms between group:4.09916666667\n"
     ]
    }
   ],
   "source": [
    "es6 = TwoFactorRepeatAnalysisVariance(data,5)\n",
    "es6.printInfo()"
   ]
  },
  {
   "cell_type": "markdown",
   "metadata": {},
   "source": [
    "## Exercise 7"
   ]
  },
  {
   "cell_type": "code",
   "execution_count": 110,
   "metadata": {
    "collapsed": false
   },
   "outputs": [
    {
     "data": {
      "text/html": [
       "<div>\n",
       "<table border=\"1\" class=\"dataframe\">\n",
       "  <thead>\n",
       "    <tr style=\"text-align: right;\">\n",
       "      <th></th>\n",
       "      <th>报纸</th>\n",
       "      <th>电视</th>\n",
       "    </tr>\n",
       "    <tr>\n",
       "      <th>index</th>\n",
       "      <th></th>\n",
       "      <th></th>\n",
       "    </tr>\n",
       "  </thead>\n",
       "  <tbody>\n",
       "    <tr>\n",
       "      <th>A</th>\n",
       "      <td>8</td>\n",
       "      <td>12</td>\n",
       "    </tr>\n",
       "    <tr>\n",
       "      <th>A</th>\n",
       "      <td>12</td>\n",
       "      <td>8</td>\n",
       "    </tr>\n",
       "    <tr>\n",
       "      <th>B</th>\n",
       "      <td>22</td>\n",
       "      <td>26</td>\n",
       "    </tr>\n",
       "    <tr>\n",
       "      <th>B</th>\n",
       "      <td>14</td>\n",
       "      <td>30</td>\n",
       "    </tr>\n",
       "    <tr>\n",
       "      <th>C</th>\n",
       "      <td>10</td>\n",
       "      <td>18</td>\n",
       "    </tr>\n",
       "    <tr>\n",
       "      <th>C</th>\n",
       "      <td>18</td>\n",
       "      <td>14</td>\n",
       "    </tr>\n",
       "  </tbody>\n",
       "</table>\n",
       "</div>"
      ],
      "text/plain": [
       "       报纸  电视\n",
       "index        \n",
       "A       8  12\n",
       "A      12   8\n",
       "B      22  26\n",
       "B      14  30\n",
       "C      10  18\n",
       "C      18  14"
      ]
     },
     "execution_count": 110,
     "metadata": {},
     "output_type": "execute_result"
    }
   ],
   "source": [
    "data = pd.read_excel('7_7.xls')\n",
    "data\n",
    "data.reset_index(level=0, inplace=True)\n",
    "data.fillna(method='ffill',inplace=True)\n",
    "data = data.set_index('index')\n",
    "data"
   ]
  },
  {
   "cell_type": "code",
   "execution_count": 111,
   "metadata": {
    "collapsed": false
   },
   "outputs": [
    {
     "name": "stdout",
     "output_type": "stream",
     "text": [
      "r:2\n",
      "s:3\n",
      "t:2\n",
      "line ss:344.0\n",
      "line ms:172.0\n",
      "line f:10.75\n",
      "line p value:0.0103861758077\n",
      "line f crit:5.14325284978\n",
      "column between group ss:48.0\n",
      "column ms between group:48.0\n",
      "column f:3.0\n",
      "column p value:0.133974596216\n",
      "columnne f crit:5.98737760727\n",
      "corr between group ss:56.0\n",
      "corr ms between group:28.0\n",
      "corr f:1.75\n",
      "corr p value:0.251931768479\n",
      "corr f crit:5.14325284978\n",
      "error between group ss:96\n",
      "error ms between group:16.0\n"
     ]
    }
   ],
   "source": [
    "es7 = TwoFactorRepeatAnalysisVariance(data,2)\n",
    "es7.printInfo()"
   ]
  }
 ],
 "metadata": {
  "kernelspec": {
   "display_name": "Python 3",
   "language": "python",
   "name": "python3"
  },
  "language_info": {
   "codemirror_mode": {
    "name": "ipython",
    "version": 3
   },
   "file_extension": ".py",
   "mimetype": "text/x-python",
   "name": "python",
   "nbconvert_exporter": "python",
   "pygments_lexer": "ipython3",
   "version": "3.5.1"
  }
 },
 "nbformat": 4,
 "nbformat_minor": 0
}
