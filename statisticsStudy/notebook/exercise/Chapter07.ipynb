{
 "cells": [
  {
   "cell_type": "code",
   "execution_count": 121,
   "metadata": {
    "collapsed": false
   },
   "outputs": [],
   "source": [
    "import math\n",
    "import pandas as pd\n",
    "import numpy as np\n",
    "from pandas import DataFrame\n",
    "from scipy.stats import f,t\n",
    "from statsstudy.ANOVA import SingleAnalysisVariance,TwoFactorNonRepeatAnalysisVariance"
   ]
  },
  {
   "cell_type": "markdown",
   "metadata": {},
   "source": [
    "## Exercise1"
   ]
  },
  {
   "cell_type": "markdown",
   "metadata": {},
   "source": [
    "$H_0: \\mu _1 = \\mu _2 = \\mu _3 = \\mu _4$ <br/>\n",
    "$H_1: \\mu _1 \\neq \\mu _2 \\neq \\mu _3 \\neq \\mu _4 $ <br/>"
   ]
  },
  {
   "cell_type": "code",
   "execution_count": 122,
   "metadata": {
    "collapsed": false
   },
   "outputs": [
    {
     "data": {
      "text/plain": [
       "(16.119999999999997, 24.009999999999998, 19.870000000000001, 16.02)"
      ]
     },
     "execution_count": 122,
     "metadata": {},
     "output_type": "execute_result"
    }
   ],
   "source": [
    "data = pd.read_excel('7_1.xls')\n",
    "sum1 = data.machine1.sum()\n",
    "count1 = data.machine1.count()\n",
    "mean1 = data.machine1.mean()\n",
    "sum2 = data.machine2.sum()\n",
    "count2 = data.machine2.count()\n",
    "mean2 = data.machine2.mean()\n",
    "sum3 = data.machine3.sum()\n",
    "count3 = data.machine3.count()\n",
    "mean3 = data.machine3.mean()\n",
    "sum4 = data.machine4.sum()\n",
    "count4 = data.machine4.count()\n",
    "mean4 = data.machine4.mean()\n",
    "\n",
    "(sum1,sum2,sum3,sum4)"
   ]
  },
  {
   "cell_type": "code",
   "execution_count": 123,
   "metadata": {
    "collapsed": false
   },
   "outputs": [
    {
     "data": {
      "text/plain": [
       "(4, 6, 5, 4)"
      ]
     },
     "execution_count": 123,
     "metadata": {},
     "output_type": "execute_result"
    }
   ],
   "source": [
    "(count1,count2,count3,count4)"
   ]
  },
  {
   "cell_type": "code",
   "execution_count": 124,
   "metadata": {
    "collapsed": false
   },
   "outputs": [
    {
     "data": {
      "text/plain": [
       "19"
      ]
     },
     "execution_count": 124,
     "metadata": {},
     "output_type": "execute_result"
    }
   ],
   "source": [
    "total_count = count1+count2+count3+count4\n",
    "total_count"
   ]
  },
  {
   "cell_type": "code",
   "execution_count": 125,
   "metadata": {
    "collapsed": false
   },
   "outputs": [
    {
     "data": {
      "text/plain": [
       "(4.0299999999999994, 4.001666666666666, 3.9740000000000002, 4.0049999999999999)"
      ]
     },
     "execution_count": 125,
     "metadata": {},
     "output_type": "execute_result"
    }
   ],
   "source": [
    "(mean1,mean2,mean3,mean4)"
   ]
  },
  {
   "cell_type": "code",
   "execution_count": 126,
   "metadata": {
    "collapsed": false
   },
   "outputs": [
    {
     "data": {
      "text/plain": [
       "(0.0003333333333333369,\n",
       " 0.00013666666666666086,\n",
       " 0.00032999999999999702,\n",
       " 0.00016666666666665956)"
      ]
     },
     "execution_count": 126,
     "metadata": {},
     "output_type": "execute_result"
    }
   ],
   "source": [
    "(data.machine1.var(),data.machine2.var(),data.machine3.var(),data.machine4.var())"
   ]
  },
  {
   "cell_type": "code",
   "execution_count": 127,
   "metadata": {
    "collapsed": false
   },
   "outputs": [
    {
     "data": {
      "text/plain": [
       "4.001052631578947"
      ]
     },
     "execution_count": 127,
     "metadata": {},
     "output_type": "execute_result"
    }
   ],
   "source": [
    "total_mean = (sum1+sum2+sum3+sum4)/total_count\n",
    "total_mean"
   ]
  },
  {
   "cell_type": "code",
   "execution_count": 128,
   "metadata": {
    "collapsed": false
   },
   "outputs": [
    {
     "data": {
      "text/plain": [
       "0.0070756140350875102"
      ]
     },
     "execution_count": 128,
     "metadata": {},
     "output_type": "execute_result"
    }
   ],
   "source": [
    "ss_group = count1*(mean1-total_mean)**2+count2*(mean2-total_mean)**2 +count3*(mean3-total_mean)**2 +count4*(mean4-total_mean)**2\n",
    "ss_group"
   ]
  },
  {
   "cell_type": "code",
   "execution_count": 129,
   "metadata": {
    "collapsed": false
   },
   "outputs": [
    {
     "data": {
      "text/plain": [
       "0.0023585380116958369"
      ]
     },
     "execution_count": 129,
     "metadata": {},
     "output_type": "execute_result"
    }
   ],
   "source": [
    "ms_group = ss_group/(3)\n",
    "ms_group"
   ]
  },
  {
   "cell_type": "code",
   "execution_count": 130,
   "metadata": {
    "collapsed": false
   },
   "outputs": [
    {
     "data": {
      "text/plain": [
       "0.003503333333333282"
      ]
     },
     "execution_count": 130,
     "metadata": {},
     "output_type": "execute_result"
    }
   ],
   "source": [
    "ss_inside = (count1-1)*data.machine1.var() + (count2-1)*data.machine2.var()+(count3-1)*data.machine3.var()+(count4-1)*data.machine4.var()\n",
    "ss_inside"
   ]
  },
  {
   "cell_type": "code",
   "execution_count": 131,
   "metadata": {
    "collapsed": false
   },
   "outputs": [
    {
     "data": {
      "text/plain": [
       "0.00023355555555555212"
      ]
     },
     "execution_count": 131,
     "metadata": {},
     "output_type": "execute_result"
    }
   ],
   "source": [
    "ms_inside = ss_inside/(total_count-4)\n",
    "ms_inside "
   ]
  },
  {
   "cell_type": "code",
   "execution_count": 132,
   "metadata": {
    "collapsed": false
   },
   "outputs": [
    {
     "data": {
      "text/plain": [
       "10.098402523911915"
      ]
     },
     "execution_count": 132,
     "metadata": {},
     "output_type": "execute_result"
    }
   ],
   "source": [
    "f_value = ms_group/ms_inside\n",
    "f_value"
   ]
  },
  {
   "cell_type": "code",
   "execution_count": 133,
   "metadata": {
    "collapsed": false
   },
   "outputs": [
    {
     "data": {
      "text/plain": [
       "(0.11490462163628182, 3.2873821046365115)"
      ]
     },
     "execution_count": 133,
     "metadata": {},
     "output_type": "execute_result"
    }
   ],
   "source": [
    "f_distribute = f(3,15)\n",
    "(f_distribute.ppf(0.05),f_distribute.ppf(1-0.05))"
   ]
  },
  {
   "cell_type": "code",
   "execution_count": 134,
   "metadata": {
    "collapsed": false
   },
   "outputs": [
    {
     "data": {
      "text/plain": [
       "2.4897877338778138"
      ]
     },
     "execution_count": 134,
     "metadata": {},
     "output_type": "execute_result"
    }
   ],
   "source": [
    "f_distribute.ppf(0.90)"
   ]
  },
  {
   "cell_type": "code",
   "execution_count": 135,
   "metadata": {
    "collapsed": false
   },
   "outputs": [
    {
     "data": {
      "text/plain": [
       "0.00068533544064767853"
      ]
     },
     "execution_count": 135,
     "metadata": {},
     "output_type": "execute_result"
    }
   ],
   "source": [
    "f_distribute.sf(f_value)"
   ]
  },
  {
   "cell_type": "code",
   "execution_count": 136,
   "metadata": {
    "collapsed": false
   },
   "outputs": [
    {
     "data": {
      "text/plain": [
       "0.90989694256939568"
      ]
     },
     "execution_count": 136,
     "metadata": {},
     "output_type": "execute_result"
    }
   ],
   "source": [
    "Relationship = ms_group/(ms_group+ms_inside)\n",
    "Relationship"
   ]
  },
  {
   "cell_type": "markdown",
   "metadata": {},
   "source": [
    "## Exercise2"
   ]
  },
  {
   "cell_type": "code",
   "execution_count": 137,
   "metadata": {
    "collapsed": false
   },
   "outputs": [
    {
     "data": {
      "text/plain": [
       "18"
      ]
     },
     "execution_count": 137,
     "metadata": {},
     "output_type": "execute_result"
    }
   ],
   "source": [
    "data = pd.read_excel('7_2.xls')\n",
    "n= data.notnull().sum().sum()\n",
    "n"
   ]
  },
  {
   "cell_type": "code",
   "execution_count": 138,
   "metadata": {
    "collapsed": false
   },
   "outputs": [
    {
     "data": {
      "text/html": [
       "<div>\n",
       "<table border=\"1\" class=\"dataframe\">\n",
       "  <thead>\n",
       "    <tr style=\"text-align: right;\">\n",
       "      <th></th>\n",
       "      <th>mean</th>\n",
       "      <th>count</th>\n",
       "      <th>sum</th>\n",
       "      <th>var</th>\n",
       "      <th>sumdiff</th>\n",
       "    </tr>\n",
       "  </thead>\n",
       "  <tbody>\n",
       "    <tr>\n",
       "      <th>高级管理者</th>\n",
       "      <td>7.600000</td>\n",
       "      <td>5</td>\n",
       "      <td>38.0</td>\n",
       "      <td>0.800000</td>\n",
       "      <td>3.200000</td>\n",
       "    </tr>\n",
       "    <tr>\n",
       "      <th>中级管理者</th>\n",
       "      <td>8.857143</td>\n",
       "      <td>7</td>\n",
       "      <td>62.0</td>\n",
       "      <td>0.809524</td>\n",
       "      <td>4.857143</td>\n",
       "    </tr>\n",
       "    <tr>\n",
       "      <th>低级管理者</th>\n",
       "      <td>5.833333</td>\n",
       "      <td>6</td>\n",
       "      <td>35.0</td>\n",
       "      <td>2.166667</td>\n",
       "      <td>10.833333</td>\n",
       "    </tr>\n",
       "  </tbody>\n",
       "</table>\n",
       "</div>"
      ],
      "text/plain": [
       "           mean  count   sum       var    sumdiff\n",
       "高级管理者  7.600000      5  38.0  0.800000   3.200000\n",
       "中级管理者  8.857143      7  62.0  0.809524   4.857143\n",
       "低级管理者  5.833333      6  35.0  2.166667  10.833333"
      ]
     },
     "execution_count": 138,
     "metadata": {},
     "output_type": "execute_result"
    }
   ],
   "source": [
    "statics_df = DataFrame()\n",
    "statics_df['mean']=data.mean()\n",
    "statics_df['count']=data.count()\n",
    "statics_df['sum']=data.sum()\n",
    "statics_df['var']=data.var()\n",
    "statics_df['sumdiff']=data.var()*(statics_df['count']-1)\n",
    "statics_df"
   ]
  },
  {
   "cell_type": "code",
   "execution_count": 139,
   "metadata": {
    "collapsed": false
   },
   "outputs": [
    {
     "data": {
      "text/plain": [
       "3"
      ]
     },
     "execution_count": 139,
     "metadata": {},
     "output_type": "execute_result"
    }
   ],
   "source": [
    "statics_df.shape[0]"
   ]
  },
  {
   "cell_type": "code",
   "execution_count": 140,
   "metadata": {
    "collapsed": false
   },
   "outputs": [
    {
     "data": {
      "text/plain": [
       "7.5"
      ]
     },
     "execution_count": 140,
     "metadata": {},
     "output_type": "execute_result"
    }
   ],
   "source": [
    "total_mean = statics_df['sum'].sum()/statics_df['count'].sum()\n",
    "total_mean"
   ]
  },
  {
   "cell_type": "code",
   "execution_count": 141,
   "metadata": {
    "collapsed": false
   },
   "outputs": [
    {
     "data": {
      "text/plain": [
       "29.609523809523822"
      ]
     },
     "execution_count": 141,
     "metadata": {},
     "output_type": "execute_result"
    }
   ],
   "source": [
    "between_group_ss = (statics_df['count']*(statics_df['mean'] - total_mean)**2).sum()\n",
    "between_group_ss"
   ]
  },
  {
   "cell_type": "code",
   "execution_count": 142,
   "metadata": {
    "collapsed": false
   },
   "outputs": [
    {
     "data": {
      "text/plain": [
       "14.804761904761911"
      ]
     },
     "execution_count": 142,
     "metadata": {},
     "output_type": "execute_result"
    }
   ],
   "source": [
    "ms_between_group = between_group_ss/(statics_df.shape[0]-1)\n",
    "ms_between_group"
   ]
  },
  {
   "cell_type": "code",
   "execution_count": 143,
   "metadata": {
    "collapsed": false
   },
   "outputs": [
    {
     "data": {
      "text/plain": [
       "18.890476190476189"
      ]
     },
     "execution_count": 143,
     "metadata": {},
     "output_type": "execute_result"
    }
   ],
   "source": [
    "inside_group_ss = statics_df['sumdiff'].sum()\n",
    "inside_group_ss "
   ]
  },
  {
   "cell_type": "code",
   "execution_count": 144,
   "metadata": {
    "collapsed": false
   },
   "outputs": [
    {
     "data": {
      "text/plain": [
       "1.2593650793650792"
      ]
     },
     "execution_count": 144,
     "metadata": {},
     "output_type": "execute_result"
    }
   ],
   "source": [
    "ms_inside_group = inside_group_ss/(n-statics_df.shape[0])\n",
    "ms_inside_group"
   ]
  },
  {
   "cell_type": "code",
   "execution_count": 145,
   "metadata": {
    "collapsed": false
   },
   "outputs": [
    {
     "data": {
      "text/plain": [
       "11.755734812200661"
      ]
     },
     "execution_count": 145,
     "metadata": {},
     "output_type": "execute_result"
    }
   ],
   "source": [
    "f_value= ms_between_group/ms_inside_group\n",
    "f_value"
   ]
  },
  {
   "cell_type": "code",
   "execution_count": 146,
   "metadata": {
    "collapsed": false
   },
   "outputs": [
    {
     "data": {
      "text/plain": [
       "3.6823203436732412"
      ]
     },
     "execution_count": 146,
     "metadata": {},
     "output_type": "execute_result"
    }
   ],
   "source": [
    "f_distribute = f(statics_df.shape[0]-1,n - statics_df.shape[0])\n",
    "f_distribute.isf(0.05)"
   ]
  },
  {
   "cell_type": "code",
   "execution_count": 147,
   "metadata": {
    "collapsed": false
   },
   "outputs": [
    {
     "data": {
      "text/plain": [
       "0.00084870889432867198"
      ]
     },
     "execution_count": 147,
     "metadata": {},
     "output_type": "execute_result"
    }
   ],
   "source": [
    "f_distribute.sf(f_value)"
   ]
  },
  {
   "cell_type": "markdown",
   "metadata": {},
   "source": [
    "## Exercise3"
   ]
  },
  {
   "cell_type": "code",
   "execution_count": 148,
   "metadata": {
    "collapsed": false
   },
   "outputs": [],
   "source": [
    "data = pd.read_excel('7_3.xls',skiprows=1,index_col=0)\n",
    "ea3 = SingleAnalysisVariance(data) # ea mean exercise analysis"
   ]
  },
  {
   "cell_type": "code",
   "execution_count": 149,
   "metadata": {
    "collapsed": false
   },
   "outputs": [
    {
     "name": "stdout",
     "output_type": "stream",
     "text": [
      "n:15\n",
      "k:3\n",
      "total mean:39.0\n",
      "between group ss:615.6\n",
      "ms between group:307.8\n",
      "inside group ss:216.4\n",
      "ms inside group:18.0333333333\n",
      "f:17.0683918669\n",
      "p value:0.000309601874063\n",
      "f crit:3.88529383465\n"
     ]
    }
   ],
   "source": [
    "ea3.printInfo()"
   ]
  },
  {
   "cell_type": "code",
   "execution_count": 150,
   "metadata": {
    "collapsed": false,
    "scrolled": true
   },
   "outputs": [
    {
     "data": {
      "text/html": [
       "<div>\n",
       "<table border=\"1\" class=\"dataframe\">\n",
       "  <thead>\n",
       "    <tr style=\"text-align: right;\">\n",
       "      <th></th>\n",
       "      <th>mean</th>\n",
       "      <th>count</th>\n",
       "      <th>sum</th>\n",
       "      <th>var</th>\n",
       "      <th>sumdiff</th>\n",
       "    </tr>\n",
       "  </thead>\n",
       "  <tbody>\n",
       "    <tr>\n",
       "      <th>A</th>\n",
       "      <td>44.4</td>\n",
       "      <td>5</td>\n",
       "      <td>222</td>\n",
       "      <td>28.3</td>\n",
       "      <td>113.2</td>\n",
       "    </tr>\n",
       "    <tr>\n",
       "      <th>B</th>\n",
       "      <td>30.0</td>\n",
       "      <td>5</td>\n",
       "      <td>150</td>\n",
       "      <td>10.0</td>\n",
       "      <td>40.0</td>\n",
       "    </tr>\n",
       "    <tr>\n",
       "      <th>C</th>\n",
       "      <td>42.6</td>\n",
       "      <td>5</td>\n",
       "      <td>213</td>\n",
       "      <td>15.8</td>\n",
       "      <td>63.2</td>\n",
       "    </tr>\n",
       "  </tbody>\n",
       "</table>\n",
       "</div>"
      ],
      "text/plain": [
       "   mean  count  sum   var  sumdiff\n",
       "A  44.4      5  222  28.3    113.2\n",
       "B  30.0      5  150  10.0     40.0\n",
       "C  42.6      5  213  15.8     63.2"
      ]
     },
     "execution_count": 150,
     "metadata": {},
     "output_type": "execute_result"
    }
   ],
   "source": [
    "ea3.statistics_info"
   ]
  },
  {
   "cell_type": "markdown",
   "metadata": {},
   "source": [
    "## Exercise5"
   ]
  },
  {
   "cell_type": "code",
   "execution_count": 151,
   "metadata": {
    "collapsed": false
   },
   "outputs": [
    {
     "data": {
      "text/html": [
       "<div>\n",
       "<table border=\"1\" class=\"dataframe\">\n",
       "  <thead>\n",
       "    <tr style=\"text-align: right;\">\n",
       "      <th></th>\n",
       "      <th>1</th>\n",
       "      <th>2</th>\n",
       "      <th>3</th>\n",
       "      <th>4</th>\n",
       "    </tr>\n",
       "  </thead>\n",
       "  <tbody>\n",
       "    <tr>\n",
       "      <th>1</th>\n",
       "      <td>12.0</td>\n",
       "      <td>9.5</td>\n",
       "      <td>10.4</td>\n",
       "      <td>9.7</td>\n",
       "    </tr>\n",
       "    <tr>\n",
       "      <th>2</th>\n",
       "      <td>13.7</td>\n",
       "      <td>11.5</td>\n",
       "      <td>12.4</td>\n",
       "      <td>9.6</td>\n",
       "    </tr>\n",
       "    <tr>\n",
       "      <th>3</th>\n",
       "      <td>14.3</td>\n",
       "      <td>12.3</td>\n",
       "      <td>11.4</td>\n",
       "      <td>11.1</td>\n",
       "    </tr>\n",
       "    <tr>\n",
       "      <th>4</th>\n",
       "      <td>14.2</td>\n",
       "      <td>14.0</td>\n",
       "      <td>12.5</td>\n",
       "      <td>12.0</td>\n",
       "    </tr>\n",
       "    <tr>\n",
       "      <th>5</th>\n",
       "      <td>13.0</td>\n",
       "      <td>14.0</td>\n",
       "      <td>13.1</td>\n",
       "      <td>11.4</td>\n",
       "    </tr>\n",
       "  </tbody>\n",
       "</table>\n",
       "</div>"
      ],
      "text/plain": [
       "      1     2     3     4\n",
       "1  12.0   9.5  10.4   9.7\n",
       "2  13.7  11.5  12.4   9.6\n",
       "3  14.3  12.3  11.4  11.1\n",
       "4  14.2  14.0  12.5  12.0\n",
       "5  13.0  14.0  13.1  11.4"
      ]
     },
     "execution_count": 151,
     "metadata": {},
     "output_type": "execute_result"
    }
   ],
   "source": [
    "data = pd.read_excel('7_5.xls',skiprows=1,index_col=0)\n",
    "data"
   ]
  },
  {
   "cell_type": "code",
   "execution_count": 152,
   "metadata": {
    "collapsed": false
   },
   "outputs": [
    {
     "name": "stdout",
     "output_type": "stream",
     "text": [
      "r:4\n",
      "k:5\n",
      "line ss:19.067\n",
      "line ms:4.76675\n",
      "line f:7.23971649158\n",
      "line p value:0.00331519021732\n",
      "line f crit:3.2591667269\n",
      "column between group ss:18.1815\n",
      "column ms between group:6.0605\n",
      "column f:9.20465763827\n",
      "column p value:0.00194910982013\n",
      "columnne f crit:3.4902948195\n",
      "error between group ss:7.901\n",
      "error ms between group:0.658416666667\n"
     ]
    }
   ],
   "source": [
    "ea5 = TwoFactorNonRepeatAnalysisVariance(data)\n",
    "ea5.printInfo()"
   ]
  },
  {
   "cell_type": "code",
   "execution_count": 153,
   "metadata": {
    "collapsed": false
   },
   "outputs": [
    {
     "data": {
      "text/html": [
       "<div>\n",
       "<table border=\"1\" class=\"dataframe\">\n",
       "  <thead>\n",
       "    <tr style=\"text-align: right;\">\n",
       "      <th></th>\n",
       "      <th>mean</th>\n",
       "      <th>count</th>\n",
       "      <th>sum</th>\n",
       "      <th>var</th>\n",
       "      <th>sumdiff</th>\n",
       "    </tr>\n",
       "  </thead>\n",
       "  <tbody>\n",
       "    <tr>\n",
       "      <th>1</th>\n",
       "      <td>13.44</td>\n",
       "      <td>5</td>\n",
       "      <td>67.2</td>\n",
       "      <td>0.913</td>\n",
       "      <td>3.652</td>\n",
       "    </tr>\n",
       "    <tr>\n",
       "      <th>2</th>\n",
       "      <td>12.26</td>\n",
       "      <td>5</td>\n",
       "      <td>61.3</td>\n",
       "      <td>3.563</td>\n",
       "      <td>14.252</td>\n",
       "    </tr>\n",
       "    <tr>\n",
       "      <th>3</th>\n",
       "      <td>11.96</td>\n",
       "      <td>5</td>\n",
       "      <td>59.8</td>\n",
       "      <td>1.133</td>\n",
       "      <td>4.532</td>\n",
       "    </tr>\n",
       "    <tr>\n",
       "      <th>4</th>\n",
       "      <td>10.76</td>\n",
       "      <td>5</td>\n",
       "      <td>53.8</td>\n",
       "      <td>1.133</td>\n",
       "      <td>4.532</td>\n",
       "    </tr>\n",
       "  </tbody>\n",
       "</table>\n",
       "</div>"
      ],
      "text/plain": [
       "    mean  count   sum    var  sumdiff\n",
       "1  13.44      5  67.2  0.913    3.652\n",
       "2  12.26      5  61.3  3.563   14.252\n",
       "3  11.96      5  59.8  1.133    4.532\n",
       "4  10.76      5  53.8  1.133    4.532"
      ]
     },
     "execution_count": 153,
     "metadata": {},
     "output_type": "execute_result"
    }
   ],
   "source": [
    "ea5.c_statistics_info"
   ]
  },
  {
   "cell_type": "code",
   "execution_count": 154,
   "metadata": {
    "collapsed": false
   },
   "outputs": [
    {
     "data": {
      "text/html": [
       "<div>\n",
       "<table border=\"1\" class=\"dataframe\">\n",
       "  <thead>\n",
       "    <tr style=\"text-align: right;\">\n",
       "      <th></th>\n",
       "      <th>mean</th>\n",
       "      <th>count</th>\n",
       "      <th>sum</th>\n",
       "      <th>var</th>\n",
       "      <th>sumdiff</th>\n",
       "    </tr>\n",
       "  </thead>\n",
       "  <tbody>\n",
       "    <tr>\n",
       "      <th>1</th>\n",
       "      <td>10.400</td>\n",
       "      <td>4</td>\n",
       "      <td>41.6</td>\n",
       "      <td>1.286667</td>\n",
       "      <td>3.8600</td>\n",
       "    </tr>\n",
       "    <tr>\n",
       "      <th>2</th>\n",
       "      <td>11.800</td>\n",
       "      <td>4</td>\n",
       "      <td>47.2</td>\n",
       "      <td>2.966667</td>\n",
       "      <td>8.9000</td>\n",
       "    </tr>\n",
       "    <tr>\n",
       "      <th>3</th>\n",
       "      <td>12.275</td>\n",
       "      <td>4</td>\n",
       "      <td>49.1</td>\n",
       "      <td>2.082500</td>\n",
       "      <td>6.2475</td>\n",
       "    </tr>\n",
       "    <tr>\n",
       "      <th>4</th>\n",
       "      <td>13.175</td>\n",
       "      <td>4</td>\n",
       "      <td>52.7</td>\n",
       "      <td>1.189167</td>\n",
       "      <td>3.5675</td>\n",
       "    </tr>\n",
       "    <tr>\n",
       "      <th>5</th>\n",
       "      <td>12.875</td>\n",
       "      <td>4</td>\n",
       "      <td>51.5</td>\n",
       "      <td>1.169167</td>\n",
       "      <td>3.5075</td>\n",
       "    </tr>\n",
       "  </tbody>\n",
       "</table>\n",
       "</div>"
      ],
      "text/plain": [
       "     mean  count   sum       var  sumdiff\n",
       "1  10.400      4  41.6  1.286667   3.8600\n",
       "2  11.800      4  47.2  2.966667   8.9000\n",
       "3  12.275      4  49.1  2.082500   6.2475\n",
       "4  13.175      4  52.7  1.189167   3.5675\n",
       "5  12.875      4  51.5  1.169167   3.5075"
      ]
     },
     "execution_count": 154,
     "metadata": {},
     "output_type": "execute_result"
    }
   ],
   "source": [
    "ea5.l_statistics_info"
   ]
  },
  {
   "cell_type": "markdown",
   "metadata": {},
   "source": [
    "## Exercise 6"
   ]
  },
  {
   "cell_type": "code",
   "execution_count": 155,
   "metadata": {
    "collapsed": false
   },
   "outputs": [
    {
     "data": {
      "text/html": [
       "<div>\n",
       "<table border=\"1\" class=\"dataframe\">\n",
       "  <thead>\n",
       "    <tr style=\"text-align: right;\">\n",
       "      <th></th>\n",
       "      <th>road1</th>\n",
       "      <th>road2</th>\n",
       "      <th>road3</th>\n",
       "    </tr>\n",
       "    <tr>\n",
       "      <th>index</th>\n",
       "      <th></th>\n",
       "      <th></th>\n",
       "      <th></th>\n",
       "    </tr>\n",
       "  </thead>\n",
       "  <tbody>\n",
       "    <tr>\n",
       "      <th>高峰期</th>\n",
       "      <td>36.28</td>\n",
       "      <td>30.36</td>\n",
       "      <td>34.44</td>\n",
       "    </tr>\n",
       "    <tr>\n",
       "      <th>高峰期</th>\n",
       "      <td>36.28</td>\n",
       "      <td>30.36</td>\n",
       "      <td>34.44</td>\n",
       "    </tr>\n",
       "    <tr>\n",
       "      <th>高峰期</th>\n",
       "      <td>36.28</td>\n",
       "      <td>30.36</td>\n",
       "      <td>34.44</td>\n",
       "    </tr>\n",
       "    <tr>\n",
       "      <th>高峰期</th>\n",
       "      <td>36.28</td>\n",
       "      <td>30.36</td>\n",
       "      <td>34.44</td>\n",
       "    </tr>\n",
       "    <tr>\n",
       "      <th>高峰期</th>\n",
       "      <td>36.28</td>\n",
       "      <td>30.36</td>\n",
       "      <td>34.44</td>\n",
       "    </tr>\n",
       "    <tr>\n",
       "      <th>非高峰期</th>\n",
       "      <td>30.00</td>\n",
       "      <td>24.20</td>\n",
       "      <td>28.28</td>\n",
       "    </tr>\n",
       "    <tr>\n",
       "      <th>非高峰期</th>\n",
       "      <td>30.00</td>\n",
       "      <td>24.20</td>\n",
       "      <td>28.28</td>\n",
       "    </tr>\n",
       "    <tr>\n",
       "      <th>非高峰期</th>\n",
       "      <td>30.00</td>\n",
       "      <td>24.20</td>\n",
       "      <td>28.28</td>\n",
       "    </tr>\n",
       "    <tr>\n",
       "      <th>非高峰期</th>\n",
       "      <td>30.00</td>\n",
       "      <td>24.20</td>\n",
       "      <td>28.28</td>\n",
       "    </tr>\n",
       "    <tr>\n",
       "      <th>非高峰期</th>\n",
       "      <td>30.00</td>\n",
       "      <td>24.20</td>\n",
       "      <td>28.28</td>\n",
       "    </tr>\n",
       "  </tbody>\n",
       "</table>\n",
       "</div>"
      ],
      "text/plain": [
       "       road1  road2  road3\n",
       "index                     \n",
       "高峰期    36.28  30.36  34.44\n",
       "高峰期    36.28  30.36  34.44\n",
       "高峰期    36.28  30.36  34.44\n",
       "高峰期    36.28  30.36  34.44\n",
       "高峰期    36.28  30.36  34.44\n",
       "非高峰期   30.00  24.20  28.28\n",
       "非高峰期   30.00  24.20  28.28\n",
       "非高峰期   30.00  24.20  28.28\n",
       "非高峰期   30.00  24.20  28.28\n",
       "非高峰期   30.00  24.20  28.28"
      ]
     },
     "execution_count": 155,
     "metadata": {},
     "output_type": "execute_result"
    }
   ],
   "source": [
    "data = pd.read_excel('7_6.xls')\n",
    "data\n",
    "data.reset_index(level=0, inplace=True)\n",
    "data.fillna(method='ffill',inplace=True)\n",
    "data = data.set_index('index')\n",
    "data.groupby(level=0).transform(lambda c:c.mean())"
   ]
  },
  {
   "cell_type": "code",
   "execution_count": 156,
   "metadata": {
    "collapsed": false
   },
   "outputs": [
    {
     "data": {
      "text/html": [
       "<div>\n",
       "<table border=\"1\" class=\"dataframe\">\n",
       "  <thead>\n",
       "    <tr style=\"text-align: right;\">\n",
       "      <th></th>\n",
       "      <th>road1</th>\n",
       "      <th>road2</th>\n",
       "      <th>road3</th>\n",
       "    </tr>\n",
       "    <tr>\n",
       "      <th>index</th>\n",
       "      <th></th>\n",
       "      <th></th>\n",
       "      <th></th>\n",
       "    </tr>\n",
       "  </thead>\n",
       "  <tbody>\n",
       "    <tr>\n",
       "      <th>非高峰期</th>\n",
       "      <td>5</td>\n",
       "      <td>5</td>\n",
       "      <td>5</td>\n",
       "    </tr>\n",
       "    <tr>\n",
       "      <th>高峰期</th>\n",
       "      <td>5</td>\n",
       "      <td>5</td>\n",
       "      <td>5</td>\n",
       "    </tr>\n",
       "  </tbody>\n",
       "</table>\n",
       "</div>"
      ],
      "text/plain": [
       "       road1  road2  road3\n",
       "index                     \n",
       "非高峰期       5      5      5\n",
       "高峰期        5      5      5"
      ]
     },
     "execution_count": 156,
     "metadata": {},
     "output_type": "execute_result"
    }
   ],
   "source": [
    "data.groupby(level=0).count()."
   ]
  }
 ],
 "metadata": {
  "kernelspec": {
   "display_name": "Python 3",
   "language": "python",
   "name": "python3"
  },
  "language_info": {
   "codemirror_mode": {
    "name": "ipython",
    "version": 3
   },
   "file_extension": ".py",
   "mimetype": "text/x-python",
   "name": "python",
   "nbconvert_exporter": "python",
   "pygments_lexer": "ipython3",
   "version": "3.5.1"
  }
 },
 "nbformat": 4,
 "nbformat_minor": 0
}
