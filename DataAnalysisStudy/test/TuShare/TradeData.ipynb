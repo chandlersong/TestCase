{
 "cells": [
  {
   "cell_type": "code",
   "execution_count": 2,
   "metadata": {
    "collapsed": true
   },
   "outputs": [],
   "source": [
    "import pandas as pd\n",
    "import tushare as ts\n",
    "from pandas.util.testing import assert_frame_equal"
   ]
  },
  {
   "cell_type": "markdown",
   "metadata": {},
   "source": [
    "Basic"
   ]
  },
  {
   "cell_type": "code",
   "execution_count": 3,
   "metadata": {
    "collapsed": false,
    "scrolled": true
   },
   "outputs": [
    {
     "data": {
      "text/html": [
       "<div>\n",
       "<table border=\"1\" class=\"dataframe\">\n",
       "  <thead>\n",
       "    <tr style=\"text-align: right;\">\n",
       "      <th></th>\n",
       "      <th>open</th>\n",
       "      <th>high</th>\n",
       "      <th>close</th>\n",
       "      <th>low</th>\n",
       "      <th>volume</th>\n",
       "      <th>price_change</th>\n",
       "      <th>p_change</th>\n",
       "      <th>ma5</th>\n",
       "      <th>ma10</th>\n",
       "      <th>ma20</th>\n",
       "      <th>v_ma5</th>\n",
       "      <th>v_ma10</th>\n",
       "      <th>v_ma20</th>\n",
       "      <th>turnover</th>\n",
       "    </tr>\n",
       "    <tr>\n",
       "      <th>date</th>\n",
       "      <th></th>\n",
       "      <th></th>\n",
       "      <th></th>\n",
       "      <th></th>\n",
       "      <th></th>\n",
       "      <th></th>\n",
       "      <th></th>\n",
       "      <th></th>\n",
       "      <th></th>\n",
       "      <th></th>\n",
       "      <th></th>\n",
       "      <th></th>\n",
       "      <th></th>\n",
       "      <th></th>\n",
       "    </tr>\n",
       "  </thead>\n",
       "  <tbody>\n",
       "  </tbody>\n",
       "</table>\n",
       "</div>"
      ],
      "text/plain": [
       "Empty DataFrame\n",
       "Columns: [open, high, close, low, volume, price_change, p_change, ma5, ma10, ma20, v_ma5, v_ma10, v_ma20, turnover]\n",
       "Index: []"
      ]
     },
     "execution_count": 3,
     "metadata": {},
     "output_type": "execute_result"
    }
   ],
   "source": [
    "df = ts.get_hist_data('600000',start='2000-06-10',end='2000-06-20')\n",
    "df"
   ]
  },
  {
   "cell_type": "code",
   "execution_count": 4,
   "metadata": {
    "collapsed": false
   },
   "outputs": [],
   "source": [
    "df = df.set_index(df.index.to_datetime())"
   ]
  },
  {
   "cell_type": "code",
   "execution_count": 5,
   "metadata": {
    "collapsed": false
   },
   "outputs": [
    {
     "data": {
      "text/html": [
       "<div>\n",
       "<table border=\"1\" class=\"dataframe\">\n",
       "  <thead>\n",
       "    <tr style=\"text-align: right;\">\n",
       "      <th></th>\n",
       "      <th>close</th>\n",
       "      <th>high</th>\n",
       "      <th>low</th>\n",
       "      <th>ma10</th>\n",
       "      <th>ma20</th>\n",
       "      <th>ma5</th>\n",
       "      <th>open</th>\n",
       "      <th>p_change</th>\n",
       "      <th>price_change</th>\n",
       "      <th>turnover</th>\n",
       "      <th>v_ma10</th>\n",
       "      <th>v_ma20</th>\n",
       "      <th>v_ma5</th>\n",
       "      <th>volume</th>\n",
       "    </tr>\n",
       "  </thead>\n",
       "  <tbody>\n",
       "  </tbody>\n",
       "</table>\n",
       "</div>"
      ],
      "text/plain": [
       "Empty DataFrame\n",
       "Columns: [close, high, low, ma10, ma20, ma5, open, p_change, price_change, turnover, v_ma10, v_ma20, v_ma5, volume]\n",
       "Index: []"
      ]
     },
     "execution_count": 5,
     "metadata": {},
     "output_type": "execute_result"
    }
   ],
   "source": [
    "df.to_json('test.json')\n",
    "df_2= pd.read_json('test.json')\n",
    "df_2.sort_index(inplace=True,ascending=False)\n",
    "df_2.set_index(df.index)"
   ]
  },
  {
   "cell_type": "code",
   "execution_count": 6,
   "metadata": {
    "collapsed": false
   },
   "outputs": [
    {
     "data": {
      "text/html": [
       "<div>\n",
       "<table border=\"1\" class=\"dataframe\">\n",
       "  <thead>\n",
       "    <tr style=\"text-align: right;\">\n",
       "      <th></th>\n",
       "      <th>close</th>\n",
       "      <th>high</th>\n",
       "      <th>low</th>\n",
       "      <th>ma10</th>\n",
       "      <th>ma20</th>\n",
       "      <th>ma5</th>\n",
       "      <th>open</th>\n",
       "      <th>p_change</th>\n",
       "      <th>price_change</th>\n",
       "      <th>turnover</th>\n",
       "      <th>v_ma10</th>\n",
       "      <th>v_ma20</th>\n",
       "      <th>v_ma5</th>\n",
       "      <th>volume</th>\n",
       "    </tr>\n",
       "  </thead>\n",
       "  <tbody>\n",
       "  </tbody>\n",
       "</table>\n",
       "</div>"
      ],
      "text/plain": [
       "Empty DataFrame\n",
       "Columns: [close, high, low, ma10, ma20, ma5, open, p_change, price_change, turnover, v_ma10, v_ma20, v_ma5, volume]\n",
       "Index: []"
      ]
     },
     "execution_count": 6,
     "metadata": {},
     "output_type": "execute_result"
    }
   ],
   "source": [
    "df.sort_index(inplace=True)\n",
    "df_2.sort_index(inplace=True)\n",
    "df.sort_index(axis=0).sort_index(axis=1)"
   ]
  },
  {
   "cell_type": "markdown",
   "metadata": {},
   "source": [
    "the method really cost time. and the data should be cached first\n",
    "ts.get_growth_data(2016,1)"
   ]
  },
  {
   "cell_type": "code",
   "execution_count": 7,
   "metadata": {
    "collapsed": false
   },
   "outputs": [],
   "source": [
    "ts.set_token('')\n",
    "#mt = ts.Master()\n",
    "#mt.TradeCal(exchangeCD='XSHG', beginDate='20150928', endDate='20151010')"
   ]
  },
  {
   "cell_type": "markdown",
   "metadata": {},
   "source": [
    "test subscription price"
   ]
  },
  {
   "cell_type": "code",
   "execution_count": 8,
   "metadata": {
    "collapsed": false
   },
   "outputs": [
    {
     "name": "stdout",
     "output_type": "stream",
     "text": [
      "[Getting data:]"
     ]
    },
    {
     "name": "stderr",
     "output_type": "stream",
     "text": [
      "h:\\python\\lib\\site-packages\\tushare\\stock\\trading.py:441: FutureWarning: sort(columns=....) is deprecated, use sort_values(by=.....)\n",
      "  df = df.sort('date', ascending=False)\n"
     ]
    },
    {
     "data": {
      "text/html": [
       "<div>\n",
       "<table border=\"1\" class=\"dataframe\">\n",
       "  <thead>\n",
       "    <tr style=\"text-align: right;\">\n",
       "      <th></th>\n",
       "      <th>open</th>\n",
       "      <th>high</th>\n",
       "      <th>close</th>\n",
       "      <th>low</th>\n",
       "      <th>volume</th>\n",
       "      <th>amount</th>\n",
       "    </tr>\n",
       "    <tr>\n",
       "      <th>date</th>\n",
       "      <th></th>\n",
       "      <th></th>\n",
       "      <th></th>\n",
       "      <th></th>\n",
       "      <th></th>\n",
       "      <th></th>\n",
       "    </tr>\n",
       "  </thead>\n",
       "  <tbody>\n",
       "    <tr>\n",
       "      <th>2016-06-20</th>\n",
       "      <td>16.67</td>\n",
       "      <td>16.67</td>\n",
       "      <td>16.60</td>\n",
       "      <td>16.50</td>\n",
       "      <td>9681495.0</td>\n",
       "      <td>172507202.0</td>\n",
       "    </tr>\n",
       "    <tr>\n",
       "      <th>2016-06-17</th>\n",
       "      <td>16.50</td>\n",
       "      <td>16.73</td>\n",
       "      <td>16.52</td>\n",
       "      <td>16.50</td>\n",
       "      <td>17412233.0</td>\n",
       "      <td>311113072.0</td>\n",
       "    </tr>\n",
       "    <tr>\n",
       "      <th>2016-06-16</th>\n",
       "      <td>16.43</td>\n",
       "      <td>16.67</td>\n",
       "      <td>16.55</td>\n",
       "      <td>16.37</td>\n",
       "      <td>30871127.0</td>\n",
       "      <td>549171213.0</td>\n",
       "    </tr>\n",
       "    <tr>\n",
       "      <th>2016-06-15</th>\n",
       "      <td>16.37</td>\n",
       "      <td>16.51</td>\n",
       "      <td>16.50</td>\n",
       "      <td>16.32</td>\n",
       "      <td>26332177.0</td>\n",
       "      <td>464557383.0</td>\n",
       "    </tr>\n",
       "    <tr>\n",
       "      <th>2016-06-14</th>\n",
       "      <td>16.52</td>\n",
       "      <td>16.58</td>\n",
       "      <td>16.54</td>\n",
       "      <td>16.46</td>\n",
       "      <td>18773357.0</td>\n",
       "      <td>333449719.0</td>\n",
       "    </tr>\n",
       "    <tr>\n",
       "      <th>2016-06-13</th>\n",
       "      <td>16.61</td>\n",
       "      <td>16.68</td>\n",
       "      <td>16.53</td>\n",
       "      <td>16.52</td>\n",
       "      <td>30051583.0</td>\n",
       "      <td>536281150.0</td>\n",
       "    </tr>\n",
       "  </tbody>\n",
       "</table>\n",
       "</div>"
      ],
      "text/plain": [
       "             open   high  close    low      volume       amount\n",
       "date                                                           \n",
       "2016-06-20  16.67  16.67  16.60  16.50   9681495.0  172507202.0\n",
       "2016-06-17  16.50  16.73  16.52  16.50  17412233.0  311113072.0\n",
       "2016-06-16  16.43  16.67  16.55  16.37  30871127.0  549171213.0\n",
       "2016-06-15  16.37  16.51  16.50  16.32  26332177.0  464557383.0\n",
       "2016-06-14  16.52  16.58  16.54  16.46  18773357.0  333449719.0\n",
       "2016-06-13  16.61  16.68  16.53  16.52  30051583.0  536281150.0"
      ]
     },
     "execution_count": 8,
     "metadata": {},
     "output_type": "execute_result"
    }
   ],
   "source": [
    "df_adj= ts.get_h_data('600000', start='2016-06-10', end='2016-06-20')\n",
    "df_adj.to_json('test_3.json')\n",
    "df_adj"
   ]
  },
  {
   "cell_type": "code",
   "execution_count": 9,
   "metadata": {
    "collapsed": false
   },
   "outputs": [
    {
     "name": "stdout",
     "output_type": "stream",
     "text": [
      "[Getting data:]"
     ]
    }
   ],
   "source": [
    "df_adj_1=ts.get_h_data('600000', start='2016-06-10', end='2016-06-20', autype='hfq')"
   ]
  },
  {
   "cell_type": "code",
   "execution_count": 10,
   "metadata": {
    "collapsed": false
   },
   "outputs": [
    {
     "name": "stdout",
     "output_type": "stream",
     "text": [
      "[Getting data:]"
     ]
    }
   ],
   "source": [
    "df_adj_2 =ts.get_h_data('600000', start='2016-06-10', end='2016-06-20', autype=None) "
   ]
  },
  {
   "cell_type": "code",
   "execution_count": 11,
   "metadata": {
    "collapsed": false
   },
   "outputs": [],
   "source": [
    "df_real= ts.get_hist_data('600000',start='2016-06-10',end='2016-06-20')"
   ]
  },
  {
   "cell_type": "code",
   "execution_count": 12,
   "metadata": {
    "collapsed": false
   },
   "outputs": [
    {
     "data": {
      "text/html": [
       "<div>\n",
       "<table border=\"1\" class=\"dataframe\">\n",
       "  <thead>\n",
       "    <tr style=\"text-align: right;\">\n",
       "      <th></th>\n",
       "      <th>open</th>\n",
       "      <th>high</th>\n",
       "      <th>close</th>\n",
       "      <th>low</th>\n",
       "      <th>volume</th>\n",
       "      <th>price_change</th>\n",
       "      <th>p_change</th>\n",
       "      <th>ma5</th>\n",
       "      <th>ma10</th>\n",
       "      <th>ma20</th>\n",
       "      <th>v_ma5</th>\n",
       "      <th>v_ma10</th>\n",
       "      <th>v_ma20</th>\n",
       "      <th>turnover</th>\n",
       "      <th>open_adj</th>\n",
       "      <th>high_adj</th>\n",
       "      <th>close_adj</th>\n",
       "      <th>low_adj</th>\n",
       "      <th>volume_adj</th>\n",
       "      <th>amount</th>\n",
       "    </tr>\n",
       "    <tr>\n",
       "      <th>date</th>\n",
       "      <th></th>\n",
       "      <th></th>\n",
       "      <th></th>\n",
       "      <th></th>\n",
       "      <th></th>\n",
       "      <th></th>\n",
       "      <th></th>\n",
       "      <th></th>\n",
       "      <th></th>\n",
       "      <th></th>\n",
       "      <th></th>\n",
       "      <th></th>\n",
       "      <th></th>\n",
       "      <th></th>\n",
       "      <th></th>\n",
       "      <th></th>\n",
       "      <th></th>\n",
       "      <th></th>\n",
       "      <th></th>\n",
       "      <th></th>\n",
       "    </tr>\n",
       "  </thead>\n",
       "  <tbody>\n",
       "    <tr>\n",
       "      <th>2016-06-20</th>\n",
       "      <td>17.93</td>\n",
       "      <td>17.93</td>\n",
       "      <td>17.86</td>\n",
       "      <td>17.75</td>\n",
       "      <td>96814.95</td>\n",
       "      <td>0.09</td>\n",
       "      <td>0.51</td>\n",
       "      <td>17.802</td>\n",
       "      <td>17.884</td>\n",
       "      <td>17.847</td>\n",
       "      <td>206140.78</td>\n",
       "      <td>209274.02</td>\n",
       "      <td>185471.22</td>\n",
       "      <td>0.05</td>\n",
       "      <td>16.67</td>\n",
       "      <td>16.67</td>\n",
       "      <td>16.60</td>\n",
       "      <td>16.50</td>\n",
       "      <td>9681495.0</td>\n",
       "      <td>172507202.0</td>\n",
       "    </tr>\n",
       "    <tr>\n",
       "      <th>2016-06-17</th>\n",
       "      <td>17.75</td>\n",
       "      <td>17.99</td>\n",
       "      <td>17.79</td>\n",
       "      <td>17.74</td>\n",
       "      <td>174122.33</td>\n",
       "      <td>-0.01</td>\n",
       "      <td>-0.06</td>\n",
       "      <td>17.784</td>\n",
       "      <td>17.901</td>\n",
       "      <td>17.822</td>\n",
       "      <td>246880.96</td>\n",
       "      <td>217379.05</td>\n",
       "      <td>185820.88</td>\n",
       "      <td>0.09</td>\n",
       "      <td>16.50</td>\n",
       "      <td>16.73</td>\n",
       "      <td>16.52</td>\n",
       "      <td>16.50</td>\n",
       "      <td>17412233.0</td>\n",
       "      <td>311113072.0</td>\n",
       "    </tr>\n",
       "    <tr>\n",
       "      <th>2016-06-16</th>\n",
       "      <td>17.67</td>\n",
       "      <td>17.93</td>\n",
       "      <td>17.80</td>\n",
       "      <td>17.60</td>\n",
       "      <td>308711.28</td>\n",
       "      <td>0.06</td>\n",
       "      <td>0.34</td>\n",
       "      <td>17.826</td>\n",
       "      <td>17.942</td>\n",
       "      <td>17.807</td>\n",
       "      <td>259573.09</td>\n",
       "      <td>218279.24</td>\n",
       "      <td>192595.99</td>\n",
       "      <td>0.17</td>\n",
       "      <td>16.43</td>\n",
       "      <td>16.67</td>\n",
       "      <td>16.55</td>\n",
       "      <td>16.37</td>\n",
       "      <td>30871127.0</td>\n",
       "      <td>549171213.0</td>\n",
       "    </tr>\n",
       "    <tr>\n",
       "      <th>2016-06-15</th>\n",
       "      <td>17.61</td>\n",
       "      <td>17.76</td>\n",
       "      <td>17.76</td>\n",
       "      <td>17.55</td>\n",
       "      <td>263321.78</td>\n",
       "      <td>-0.03</td>\n",
       "      <td>-0.17</td>\n",
       "      <td>17.868</td>\n",
       "      <td>17.989</td>\n",
       "      <td>17.780</td>\n",
       "      <td>230898.80</td>\n",
       "      <td>223039.63</td>\n",
       "      <td>182043.00</td>\n",
       "      <td>0.14</td>\n",
       "      <td>16.37</td>\n",
       "      <td>16.51</td>\n",
       "      <td>16.50</td>\n",
       "      <td>16.32</td>\n",
       "      <td>26332177.0</td>\n",
       "      <td>464557383.0</td>\n",
       "    </tr>\n",
       "    <tr>\n",
       "      <th>2016-06-14</th>\n",
       "      <td>17.77</td>\n",
       "      <td>17.83</td>\n",
       "      <td>17.80</td>\n",
       "      <td>17.70</td>\n",
       "      <td>187733.56</td>\n",
       "      <td>0.02</td>\n",
       "      <td>0.11</td>\n",
       "      <td>17.922</td>\n",
       "      <td>18.009</td>\n",
       "      <td>17.756</td>\n",
       "      <td>213946.94</td>\n",
       "      <td>214245.64</td>\n",
       "      <td>174399.73</td>\n",
       "      <td>0.10</td>\n",
       "      <td>16.52</td>\n",
       "      <td>16.58</td>\n",
       "      <td>16.54</td>\n",
       "      <td>16.46</td>\n",
       "      <td>18773357.0</td>\n",
       "      <td>333449719.0</td>\n",
       "    </tr>\n",
       "    <tr>\n",
       "      <th>2016-06-13</th>\n",
       "      <td>17.86</td>\n",
       "      <td>17.94</td>\n",
       "      <td>17.77</td>\n",
       "      <td>17.77</td>\n",
       "      <td>300515.84</td>\n",
       "      <td>-0.22</td>\n",
       "      <td>-1.22</td>\n",
       "      <td>17.966</td>\n",
       "      <td>18.003</td>\n",
       "      <td>17.728</td>\n",
       "      <td>212407.25</td>\n",
       "      <td>207093.53</td>\n",
       "      <td>170519.96</td>\n",
       "      <td>0.16</td>\n",
       "      <td>16.61</td>\n",
       "      <td>16.68</td>\n",
       "      <td>16.53</td>\n",
       "      <td>16.52</td>\n",
       "      <td>30051583.0</td>\n",
       "      <td>536281150.0</td>\n",
       "    </tr>\n",
       "  </tbody>\n",
       "</table>\n",
       "</div>"
      ],
      "text/plain": [
       "             open   high  close    low     volume  price_change  p_change  \\\n",
       "date                                                                        \n",
       "2016-06-20  17.93  17.93  17.86  17.75   96814.95          0.09      0.51   \n",
       "2016-06-17  17.75  17.99  17.79  17.74  174122.33         -0.01     -0.06   \n",
       "2016-06-16  17.67  17.93  17.80  17.60  308711.28          0.06      0.34   \n",
       "2016-06-15  17.61  17.76  17.76  17.55  263321.78         -0.03     -0.17   \n",
       "2016-06-14  17.77  17.83  17.80  17.70  187733.56          0.02      0.11   \n",
       "2016-06-13  17.86  17.94  17.77  17.77  300515.84         -0.22     -1.22   \n",
       "\n",
       "               ma5    ma10    ma20      v_ma5     v_ma10     v_ma20  turnover  \\\n",
       "date                                                                            \n",
       "2016-06-20  17.802  17.884  17.847  206140.78  209274.02  185471.22      0.05   \n",
       "2016-06-17  17.784  17.901  17.822  246880.96  217379.05  185820.88      0.09   \n",
       "2016-06-16  17.826  17.942  17.807  259573.09  218279.24  192595.99      0.17   \n",
       "2016-06-15  17.868  17.989  17.780  230898.80  223039.63  182043.00      0.14   \n",
       "2016-06-14  17.922  18.009  17.756  213946.94  214245.64  174399.73      0.10   \n",
       "2016-06-13  17.966  18.003  17.728  212407.25  207093.53  170519.96      0.16   \n",
       "\n",
       "            open_adj  high_adj  close_adj  low_adj  volume_adj       amount  \n",
       "date                                                                         \n",
       "2016-06-20     16.67     16.67      16.60    16.50   9681495.0  172507202.0  \n",
       "2016-06-17     16.50     16.73      16.52    16.50  17412233.0  311113072.0  \n",
       "2016-06-16     16.43     16.67      16.55    16.37  30871127.0  549171213.0  \n",
       "2016-06-15     16.37     16.51      16.50    16.32  26332177.0  464557383.0  \n",
       "2016-06-14     16.52     16.58      16.54    16.46  18773357.0  333449719.0  \n",
       "2016-06-13     16.61     16.68      16.53    16.52  30051583.0  536281150.0  "
      ]
     },
     "execution_count": 12,
     "metadata": {},
     "output_type": "execute_result"
    }
   ],
   "source": [
    "test = pd.merge(df_real,df_adj,left_index=True,right_index=True,suffixes=('','_adj'))\n",
    "test.to_json('test_2.json')\n",
    "test "
   ]
  },
  {
   "cell_type": "markdown",
   "metadata": {},
   "source": [
    "stock basic"
   ]
  },
  {
   "cell_type": "code",
   "execution_count": 13,
   "metadata": {
    "collapsed": false,
    "scrolled": true
   },
   "outputs": [
    {
     "data": {
      "text/html": [
       "<div>\n",
       "<table border=\"1\" class=\"dataframe\">\n",
       "  <thead>\n",
       "    <tr style=\"text-align: right;\">\n",
       "      <th></th>\n",
       "      <th>name</th>\n",
       "      <th>industry</th>\n",
       "      <th>area</th>\n",
       "      <th>pe</th>\n",
       "      <th>outstanding</th>\n",
       "      <th>totals</th>\n",
       "      <th>totalAssets</th>\n",
       "      <th>liquidAssets</th>\n",
       "      <th>fixedAssets</th>\n",
       "      <th>reserved</th>\n",
       "      <th>reservedPerShare</th>\n",
       "      <th>esp</th>\n",
       "      <th>bvps</th>\n",
       "      <th>pb</th>\n",
       "      <th>timeToMarket</th>\n",
       "    </tr>\n",
       "    <tr>\n",
       "      <th>code</th>\n",
       "      <th></th>\n",
       "      <th></th>\n",
       "      <th></th>\n",
       "      <th></th>\n",
       "      <th></th>\n",
       "      <th></th>\n",
       "      <th></th>\n",
       "      <th></th>\n",
       "      <th></th>\n",
       "      <th></th>\n",
       "      <th></th>\n",
       "      <th></th>\n",
       "      <th></th>\n",
       "      <th></th>\n",
       "      <th></th>\n",
       "    </tr>\n",
       "  </thead>\n",
       "  <tbody>\n",
       "    <tr>\n",
       "      <th>002812</th>\n",
       "      <td>N创新</td>\n",
       "      <td>广告包装</td>\n",
       "      <td>云南</td>\n",
       "      <td>29.89</td>\n",
       "      <td>3348.00</td>\n",
       "      <td>13388.00</td>\n",
       "      <td>130619.82</td>\n",
       "      <td>71552.60</td>\n",
       "      <td>41611.62</td>\n",
       "      <td>23727.26</td>\n",
       "      <td>1.77</td>\n",
       "      <td>0.564</td>\n",
       "      <td>7.32</td>\n",
       "      <td>4.61</td>\n",
       "      <td>20160914</td>\n",
       "    </tr>\n",
       "    <tr>\n",
       "      <th>603189</th>\n",
       "      <td>N网达</td>\n",
       "      <td>软件服务</td>\n",
       "      <td>上海</td>\n",
       "      <td>76.17</td>\n",
       "      <td>5520.00</td>\n",
       "      <td>22080.00</td>\n",
       "      <td>40870.48</td>\n",
       "      <td>38437.19</td>\n",
       "      <td>922.97</td>\n",
       "      <td>4887.31</td>\n",
       "      <td>0.22</td>\n",
       "      <td>0.069</td>\n",
       "      <td>2.13</td>\n",
       "      <td>4.89</td>\n",
       "      <td>20160914</td>\n",
       "    </tr>\n",
       "    <tr>\n",
       "      <th>600116</th>\n",
       "      <td>三峡水利</td>\n",
       "      <td>水力发电</td>\n",
       "      <td>重庆</td>\n",
       "      <td>37.72</td>\n",
       "      <td>88800.54</td>\n",
       "      <td>99300.54</td>\n",
       "      <td>454018.06</td>\n",
       "      <td>124531.77</td>\n",
       "      <td>229704.05</td>\n",
       "      <td>74189.63</td>\n",
       "      <td>0.75</td>\n",
       "      <td>0.119</td>\n",
       "      <td>2.33</td>\n",
       "      <td>3.85</td>\n",
       "      <td>19970804</td>\n",
       "    </tr>\n",
       "    <tr>\n",
       "      <th>601231</th>\n",
       "      <td>环旭电子</td>\n",
       "      <td>元器件</td>\n",
       "      <td>上海</td>\n",
       "      <td>49.97</td>\n",
       "      <td>217592.34</td>\n",
       "      <td>217592.34</td>\n",
       "      <td>1261242.25</td>\n",
       "      <td>990163.00</td>\n",
       "      <td>194991.22</td>\n",
       "      <td>197119.81</td>\n",
       "      <td>0.91</td>\n",
       "      <td>0.122</td>\n",
       "      <td>3.18</td>\n",
       "      <td>3.82</td>\n",
       "      <td>20120220</td>\n",
       "    </tr>\n",
       "    <tr>\n",
       "      <th>000678</th>\n",
       "      <td>襄阳轴承</td>\n",
       "      <td>机械基件</td>\n",
       "      <td>湖北</td>\n",
       "      <td>0.00</td>\n",
       "      <td>42907.98</td>\n",
       "      <td>45961.17</td>\n",
       "      <td>243734.22</td>\n",
       "      <td>99121.81</td>\n",
       "      <td>92665.00</td>\n",
       "      <td>56545.46</td>\n",
       "      <td>1.23</td>\n",
       "      <td>-0.005</td>\n",
       "      <td>2.28</td>\n",
       "      <td>4.48</td>\n",
       "      <td>19970106</td>\n",
       "    </tr>\n",
       "  </tbody>\n",
       "</table>\n",
       "</div>"
      ],
      "text/plain": [
       "        name industry area     pe  outstanding     totals  totalAssets  \\\n",
       "code                                                                     \n",
       "002812   N创新     广告包装   云南  29.89      3348.00   13388.00    130619.82   \n",
       "603189   N网达     软件服务   上海  76.17      5520.00   22080.00     40870.48   \n",
       "600116  三峡水利     水力发电   重庆  37.72     88800.54   99300.54    454018.06   \n",
       "601231  环旭电子      元器件   上海  49.97    217592.34  217592.34   1261242.25   \n",
       "000678  襄阳轴承     机械基件   湖北   0.00     42907.98   45961.17    243734.22   \n",
       "\n",
       "        liquidAssets  fixedAssets   reserved  reservedPerShare    esp  bvps  \\\n",
       "code                                                                          \n",
       "002812      71552.60     41611.62   23727.26              1.77  0.564  7.32   \n",
       "603189      38437.19       922.97    4887.31              0.22  0.069  2.13   \n",
       "600116     124531.77    229704.05   74189.63              0.75  0.119  2.33   \n",
       "601231     990163.00    194991.22  197119.81              0.91  0.122  3.18   \n",
       "000678      99121.81     92665.00   56545.46              1.23 -0.005  2.28   \n",
       "\n",
       "          pb  timeToMarket  \n",
       "code                        \n",
       "002812  4.61      20160914  \n",
       "603189  4.89      20160914  \n",
       "600116  3.85      19970804  \n",
       "601231  3.82      20120220  \n",
       "000678  4.48      19970106  "
      ]
     },
     "execution_count": 13,
     "metadata": {},
     "output_type": "execute_result"
    }
   ],
   "source": [
    "stock_info = ts.get_stock_basics()\n",
    "df=stock_info.head(5)\n",
    "df.to_json('test_stock_info.json')\n",
    "df"
   ]
  }
 ],
 "metadata": {
  "kernelspec": {
   "display_name": "Python 3",
   "language": "python",
   "name": "python3"
  },
  "language_info": {
   "codemirror_mode": {
    "name": "ipython",
    "version": 3
   },
   "file_extension": ".py",
   "mimetype": "text/x-python",
   "name": "python",
   "nbconvert_exporter": "python",
   "pygments_lexer": "ipython3",
   "version": "3.5.1"
  }
 },
 "nbformat": 4,
 "nbformat_minor": 0
}
