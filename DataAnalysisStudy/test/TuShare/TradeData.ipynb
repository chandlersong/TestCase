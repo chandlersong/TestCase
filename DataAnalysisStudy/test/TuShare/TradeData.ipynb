{
 "cells": [
  {
   "cell_type": "code",
   "execution_count": 1,
   "metadata": {
    "collapsed": true
   },
   "outputs": [],
   "source": [
    "import pandas as pd\n",
    "import tushare as ts\n",
    "from pandas.util.testing import assert_frame_equal"
   ]
  },
  {
   "cell_type": "markdown",
   "metadata": {},
   "source": [
    "Basic"
   ]
  },
  {
   "cell_type": "code",
   "execution_count": 2,
   "metadata": {
    "collapsed": false,
    "scrolled": true
   },
   "outputs": [
    {
     "data": {
      "text/html": [
       "<div>\n",
       "<table border=\"1\" class=\"dataframe\">\n",
       "  <thead>\n",
       "    <tr style=\"text-align: right;\">\n",
       "      <th></th>\n",
       "      <th>open</th>\n",
       "      <th>high</th>\n",
       "      <th>close</th>\n",
       "      <th>low</th>\n",
       "      <th>volume</th>\n",
       "      <th>price_change</th>\n",
       "      <th>p_change</th>\n",
       "      <th>ma5</th>\n",
       "      <th>ma10</th>\n",
       "      <th>ma20</th>\n",
       "      <th>v_ma5</th>\n",
       "      <th>v_ma10</th>\n",
       "      <th>v_ma20</th>\n",
       "      <th>turnover</th>\n",
       "    </tr>\n",
       "    <tr>\n",
       "      <th>date</th>\n",
       "      <th></th>\n",
       "      <th></th>\n",
       "      <th></th>\n",
       "      <th></th>\n",
       "      <th></th>\n",
       "      <th></th>\n",
       "      <th></th>\n",
       "      <th></th>\n",
       "      <th></th>\n",
       "      <th></th>\n",
       "      <th></th>\n",
       "      <th></th>\n",
       "      <th></th>\n",
       "      <th></th>\n",
       "    </tr>\n",
       "  </thead>\n",
       "  <tbody>\n",
       "  </tbody>\n",
       "</table>\n",
       "</div>"
      ],
      "text/plain": [
       "Empty DataFrame\n",
       "Columns: [open, high, close, low, volume, price_change, p_change, ma5, ma10, ma20, v_ma5, v_ma10, v_ma20, turnover]\n",
       "Index: []"
      ]
     },
     "execution_count": 2,
     "metadata": {},
     "output_type": "execute_result"
    }
   ],
   "source": [
    "df = ts.get_hist_data('600000',start='2000-06-10',end='2000-06-20')\n",
    "df"
   ]
  },
  {
   "cell_type": "code",
   "execution_count": 3,
   "metadata": {
    "collapsed": false
   },
   "outputs": [],
   "source": [
    "df = df.set_index(df.index.to_datetime())"
   ]
  },
  {
   "cell_type": "code",
   "execution_count": 4,
   "metadata": {
    "collapsed": false
   },
   "outputs": [
    {
     "data": {
      "text/html": [
       "<div>\n",
       "<table border=\"1\" class=\"dataframe\">\n",
       "  <thead>\n",
       "    <tr style=\"text-align: right;\">\n",
       "      <th></th>\n",
       "      <th>close</th>\n",
       "      <th>high</th>\n",
       "      <th>low</th>\n",
       "      <th>ma10</th>\n",
       "      <th>ma20</th>\n",
       "      <th>ma5</th>\n",
       "      <th>open</th>\n",
       "      <th>p_change</th>\n",
       "      <th>price_change</th>\n",
       "      <th>turnover</th>\n",
       "      <th>v_ma10</th>\n",
       "      <th>v_ma20</th>\n",
       "      <th>v_ma5</th>\n",
       "      <th>volume</th>\n",
       "    </tr>\n",
       "  </thead>\n",
       "  <tbody>\n",
       "  </tbody>\n",
       "</table>\n",
       "</div>"
      ],
      "text/plain": [
       "Empty DataFrame\n",
       "Columns: [close, high, low, ma10, ma20, ma5, open, p_change, price_change, turnover, v_ma10, v_ma20, v_ma5, volume]\n",
       "Index: []"
      ]
     },
     "execution_count": 4,
     "metadata": {},
     "output_type": "execute_result"
    }
   ],
   "source": [
    "df.to_json('test.json')\n",
    "df_2= pd.read_json('test.json')\n",
    "df_2.sort_index(inplace=True,ascending=False)\n",
    "df_2.set_index(df.index)"
   ]
  },
  {
   "cell_type": "code",
   "execution_count": 5,
   "metadata": {
    "collapsed": false
   },
   "outputs": [
    {
     "data": {
      "text/html": [
       "<div>\n",
       "<table border=\"1\" class=\"dataframe\">\n",
       "  <thead>\n",
       "    <tr style=\"text-align: right;\">\n",
       "      <th></th>\n",
       "      <th>close</th>\n",
       "      <th>high</th>\n",
       "      <th>low</th>\n",
       "      <th>ma10</th>\n",
       "      <th>ma20</th>\n",
       "      <th>ma5</th>\n",
       "      <th>open</th>\n",
       "      <th>p_change</th>\n",
       "      <th>price_change</th>\n",
       "      <th>turnover</th>\n",
       "      <th>v_ma10</th>\n",
       "      <th>v_ma20</th>\n",
       "      <th>v_ma5</th>\n",
       "      <th>volume</th>\n",
       "    </tr>\n",
       "  </thead>\n",
       "  <tbody>\n",
       "  </tbody>\n",
       "</table>\n",
       "</div>"
      ],
      "text/plain": [
       "Empty DataFrame\n",
       "Columns: [close, high, low, ma10, ma20, ma5, open, p_change, price_change, turnover, v_ma10, v_ma20, v_ma5, volume]\n",
       "Index: []"
      ]
     },
     "execution_count": 5,
     "metadata": {},
     "output_type": "execute_result"
    }
   ],
   "source": [
    "df.sort_index(inplace=True)\n",
    "df_2.sort_index(inplace=True)\n",
    "df.sort_index(axis=0).sort_index(axis=1)"
   ]
  },
  {
   "cell_type": "markdown",
   "metadata": {},
   "source": [
    "the method really cost time. and the data should be cached first\n",
    "ts.get_growth_data(2016,1)"
   ]
  },
  {
   "cell_type": "code",
   "execution_count": 6,
   "metadata": {
    "collapsed": false
   },
   "outputs": [],
   "source": [
    "ts.set_token('')\n",
    "#mt = ts.Master()\n",
    "#mt.TradeCal(exchangeCD='XSHG', beginDate='20150928', endDate='20151010')"
   ]
  },
  {
   "cell_type": "markdown",
   "metadata": {},
   "source": [
    "test subscription price"
   ]
  },
  {
   "cell_type": "code",
   "execution_count": 7,
   "metadata": {
    "collapsed": false
   },
   "outputs": [
    {
     "name": "stdout",
     "output_type": "stream",
     "text": [
      "[Getting data:]"
     ]
    },
    {
     "name": "stderr",
     "output_type": "stream",
     "text": [
      "h:\\python\\lib\\site-packages\\tushare\\stock\\trading.py:441: FutureWarning: sort(columns=....) is deprecated, use sort_values(by=.....)\n",
      "  df = df.sort('date', ascending=False)\n"
     ]
    },
    {
     "data": {
      "text/html": [
       "<div>\n",
       "<table border=\"1\" class=\"dataframe\">\n",
       "  <thead>\n",
       "    <tr style=\"text-align: right;\">\n",
       "      <th></th>\n",
       "      <th>open</th>\n",
       "      <th>high</th>\n",
       "      <th>close</th>\n",
       "      <th>low</th>\n",
       "      <th>volume</th>\n",
       "      <th>amount</th>\n",
       "    </tr>\n",
       "    <tr>\n",
       "      <th>date</th>\n",
       "      <th></th>\n",
       "      <th></th>\n",
       "      <th></th>\n",
       "      <th></th>\n",
       "      <th></th>\n",
       "      <th></th>\n",
       "    </tr>\n",
       "  </thead>\n",
       "  <tbody>\n",
       "    <tr>\n",
       "      <th>2016-06-20</th>\n",
       "      <td>16.80</td>\n",
       "      <td>16.80</td>\n",
       "      <td>16.73</td>\n",
       "      <td>16.64</td>\n",
       "      <td>9681495.0</td>\n",
       "      <td>172507202.0</td>\n",
       "    </tr>\n",
       "    <tr>\n",
       "      <th>2016-06-17</th>\n",
       "      <td>16.64</td>\n",
       "      <td>16.86</td>\n",
       "      <td>16.65</td>\n",
       "      <td>16.63</td>\n",
       "      <td>17412233.0</td>\n",
       "      <td>311113072.0</td>\n",
       "    </tr>\n",
       "    <tr>\n",
       "      <th>2016-06-16</th>\n",
       "      <td>16.56</td>\n",
       "      <td>16.80</td>\n",
       "      <td>16.68</td>\n",
       "      <td>16.50</td>\n",
       "      <td>30871127.0</td>\n",
       "      <td>549171213.0</td>\n",
       "    </tr>\n",
       "    <tr>\n",
       "      <th>2016-06-15</th>\n",
       "      <td>16.50</td>\n",
       "      <td>16.65</td>\n",
       "      <td>16.63</td>\n",
       "      <td>16.45</td>\n",
       "      <td>26332177.0</td>\n",
       "      <td>464557383.0</td>\n",
       "    </tr>\n",
       "    <tr>\n",
       "      <th>2016-06-14</th>\n",
       "      <td>16.65</td>\n",
       "      <td>16.71</td>\n",
       "      <td>16.67</td>\n",
       "      <td>16.59</td>\n",
       "      <td>18773357.0</td>\n",
       "      <td>333449719.0</td>\n",
       "    </tr>\n",
       "    <tr>\n",
       "      <th>2016-06-13</th>\n",
       "      <td>16.74</td>\n",
       "      <td>16.81</td>\n",
       "      <td>16.66</td>\n",
       "      <td>16.65</td>\n",
       "      <td>30051583.0</td>\n",
       "      <td>536281150.0</td>\n",
       "    </tr>\n",
       "  </tbody>\n",
       "</table>\n",
       "</div>"
      ],
      "text/plain": [
       "             open   high  close    low      volume       amount\n",
       "date                                                           \n",
       "2016-06-20  16.80  16.80  16.73  16.64   9681495.0  172507202.0\n",
       "2016-06-17  16.64  16.86  16.65  16.63  17412233.0  311113072.0\n",
       "2016-06-16  16.56  16.80  16.68  16.50  30871127.0  549171213.0\n",
       "2016-06-15  16.50  16.65  16.63  16.45  26332177.0  464557383.0\n",
       "2016-06-14  16.65  16.71  16.67  16.59  18773357.0  333449719.0\n",
       "2016-06-13  16.74  16.81  16.66  16.65  30051583.0  536281150.0"
      ]
     },
     "execution_count": 7,
     "metadata": {},
     "output_type": "execute_result"
    }
   ],
   "source": [
    "df_adj= ts.get_h_data('600000', start='2016-06-10', end='2016-06-20')\n",
    "df_adj.to_json('test_3.json')\n",
    "df_adj"
   ]
  },
  {
   "cell_type": "code",
   "execution_count": 8,
   "metadata": {
    "collapsed": false
   },
   "outputs": [
    {
     "name": "stdout",
     "output_type": "stream",
     "text": [
      "[Getting data:]"
     ]
    }
   ],
   "source": [
    "df_adj_1=ts.get_h_data('600000', start='2016-06-10', end='2016-06-20', autype='hfq')"
   ]
  },
  {
   "cell_type": "code",
   "execution_count": 9,
   "metadata": {
    "collapsed": false
   },
   "outputs": [
    {
     "name": "stdout",
     "output_type": "stream",
     "text": [
      "[Getting data:]"
     ]
    }
   ],
   "source": [
    "df_adj_2 =ts.get_h_data('600000', start='2016-06-10', end='2016-06-20', autype=None) "
   ]
  },
  {
   "cell_type": "code",
   "execution_count": 10,
   "metadata": {
    "collapsed": false
   },
   "outputs": [],
   "source": [
    "df_real= ts.get_hist_data('600000',start='2016-06-10',end='2016-06-20')"
   ]
  },
  {
   "cell_type": "code",
   "execution_count": 11,
   "metadata": {
    "collapsed": false
   },
   "outputs": [
    {
     "data": {
      "text/html": [
       "<div>\n",
       "<table border=\"1\" class=\"dataframe\">\n",
       "  <thead>\n",
       "    <tr style=\"text-align: right;\">\n",
       "      <th></th>\n",
       "      <th>open</th>\n",
       "      <th>high</th>\n",
       "      <th>close</th>\n",
       "      <th>low</th>\n",
       "      <th>volume</th>\n",
       "      <th>price_change</th>\n",
       "      <th>p_change</th>\n",
       "      <th>ma5</th>\n",
       "      <th>ma10</th>\n",
       "      <th>ma20</th>\n",
       "      <th>v_ma5</th>\n",
       "      <th>v_ma10</th>\n",
       "      <th>v_ma20</th>\n",
       "      <th>turnover</th>\n",
       "      <th>open_adj</th>\n",
       "      <th>high_adj</th>\n",
       "      <th>close_adj</th>\n",
       "      <th>low_adj</th>\n",
       "      <th>volume_adj</th>\n",
       "      <th>amount</th>\n",
       "    </tr>\n",
       "    <tr>\n",
       "      <th>date</th>\n",
       "      <th></th>\n",
       "      <th></th>\n",
       "      <th></th>\n",
       "      <th></th>\n",
       "      <th></th>\n",
       "      <th></th>\n",
       "      <th></th>\n",
       "      <th></th>\n",
       "      <th></th>\n",
       "      <th></th>\n",
       "      <th></th>\n",
       "      <th></th>\n",
       "      <th></th>\n",
       "      <th></th>\n",
       "      <th></th>\n",
       "      <th></th>\n",
       "      <th></th>\n",
       "      <th></th>\n",
       "      <th></th>\n",
       "      <th></th>\n",
       "    </tr>\n",
       "  </thead>\n",
       "  <tbody>\n",
       "    <tr>\n",
       "      <th>2016-06-20</th>\n",
       "      <td>17.93</td>\n",
       "      <td>17.93</td>\n",
       "      <td>17.86</td>\n",
       "      <td>17.75</td>\n",
       "      <td>96814.95</td>\n",
       "      <td>0.09</td>\n",
       "      <td>0.51</td>\n",
       "      <td>17.802</td>\n",
       "      <td>17.884</td>\n",
       "      <td>17.847</td>\n",
       "      <td>206140.78</td>\n",
       "      <td>209274.02</td>\n",
       "      <td>185471.22</td>\n",
       "      <td>0.05</td>\n",
       "      <td>16.80</td>\n",
       "      <td>16.80</td>\n",
       "      <td>16.73</td>\n",
       "      <td>16.64</td>\n",
       "      <td>9681495.0</td>\n",
       "      <td>172507202.0</td>\n",
       "    </tr>\n",
       "    <tr>\n",
       "      <th>2016-06-17</th>\n",
       "      <td>17.75</td>\n",
       "      <td>17.99</td>\n",
       "      <td>17.79</td>\n",
       "      <td>17.74</td>\n",
       "      <td>174122.33</td>\n",
       "      <td>-0.01</td>\n",
       "      <td>-0.06</td>\n",
       "      <td>17.784</td>\n",
       "      <td>17.901</td>\n",
       "      <td>17.822</td>\n",
       "      <td>246880.96</td>\n",
       "      <td>217379.05</td>\n",
       "      <td>185820.88</td>\n",
       "      <td>0.09</td>\n",
       "      <td>16.64</td>\n",
       "      <td>16.86</td>\n",
       "      <td>16.65</td>\n",
       "      <td>16.63</td>\n",
       "      <td>17412233.0</td>\n",
       "      <td>311113072.0</td>\n",
       "    </tr>\n",
       "    <tr>\n",
       "      <th>2016-06-16</th>\n",
       "      <td>17.67</td>\n",
       "      <td>17.93</td>\n",
       "      <td>17.80</td>\n",
       "      <td>17.60</td>\n",
       "      <td>308711.28</td>\n",
       "      <td>0.06</td>\n",
       "      <td>0.34</td>\n",
       "      <td>17.826</td>\n",
       "      <td>17.942</td>\n",
       "      <td>17.807</td>\n",
       "      <td>259573.09</td>\n",
       "      <td>218279.24</td>\n",
       "      <td>192595.99</td>\n",
       "      <td>0.17</td>\n",
       "      <td>16.56</td>\n",
       "      <td>16.80</td>\n",
       "      <td>16.68</td>\n",
       "      <td>16.50</td>\n",
       "      <td>30871127.0</td>\n",
       "      <td>549171213.0</td>\n",
       "    </tr>\n",
       "    <tr>\n",
       "      <th>2016-06-15</th>\n",
       "      <td>17.61</td>\n",
       "      <td>17.76</td>\n",
       "      <td>17.76</td>\n",
       "      <td>17.55</td>\n",
       "      <td>263321.78</td>\n",
       "      <td>-0.03</td>\n",
       "      <td>-0.17</td>\n",
       "      <td>17.868</td>\n",
       "      <td>17.989</td>\n",
       "      <td>17.780</td>\n",
       "      <td>230898.80</td>\n",
       "      <td>223039.63</td>\n",
       "      <td>182043.00</td>\n",
       "      <td>0.14</td>\n",
       "      <td>16.50</td>\n",
       "      <td>16.65</td>\n",
       "      <td>16.63</td>\n",
       "      <td>16.45</td>\n",
       "      <td>26332177.0</td>\n",
       "      <td>464557383.0</td>\n",
       "    </tr>\n",
       "    <tr>\n",
       "      <th>2016-06-14</th>\n",
       "      <td>17.77</td>\n",
       "      <td>17.83</td>\n",
       "      <td>17.80</td>\n",
       "      <td>17.70</td>\n",
       "      <td>187733.56</td>\n",
       "      <td>0.02</td>\n",
       "      <td>0.11</td>\n",
       "      <td>17.922</td>\n",
       "      <td>18.009</td>\n",
       "      <td>17.756</td>\n",
       "      <td>213946.94</td>\n",
       "      <td>214245.64</td>\n",
       "      <td>174399.73</td>\n",
       "      <td>0.10</td>\n",
       "      <td>16.65</td>\n",
       "      <td>16.71</td>\n",
       "      <td>16.67</td>\n",
       "      <td>16.59</td>\n",
       "      <td>18773357.0</td>\n",
       "      <td>333449719.0</td>\n",
       "    </tr>\n",
       "    <tr>\n",
       "      <th>2016-06-13</th>\n",
       "      <td>17.86</td>\n",
       "      <td>17.94</td>\n",
       "      <td>17.77</td>\n",
       "      <td>17.77</td>\n",
       "      <td>300515.84</td>\n",
       "      <td>-0.22</td>\n",
       "      <td>-1.22</td>\n",
       "      <td>17.966</td>\n",
       "      <td>18.003</td>\n",
       "      <td>17.728</td>\n",
       "      <td>212407.25</td>\n",
       "      <td>207093.53</td>\n",
       "      <td>170519.96</td>\n",
       "      <td>0.16</td>\n",
       "      <td>16.74</td>\n",
       "      <td>16.81</td>\n",
       "      <td>16.66</td>\n",
       "      <td>16.65</td>\n",
       "      <td>30051583.0</td>\n",
       "      <td>536281150.0</td>\n",
       "    </tr>\n",
       "  </tbody>\n",
       "</table>\n",
       "</div>"
      ],
      "text/plain": [
       "             open   high  close    low     volume  price_change  p_change  \\\n",
       "date                                                                        \n",
       "2016-06-20  17.93  17.93  17.86  17.75   96814.95          0.09      0.51   \n",
       "2016-06-17  17.75  17.99  17.79  17.74  174122.33         -0.01     -0.06   \n",
       "2016-06-16  17.67  17.93  17.80  17.60  308711.28          0.06      0.34   \n",
       "2016-06-15  17.61  17.76  17.76  17.55  263321.78         -0.03     -0.17   \n",
       "2016-06-14  17.77  17.83  17.80  17.70  187733.56          0.02      0.11   \n",
       "2016-06-13  17.86  17.94  17.77  17.77  300515.84         -0.22     -1.22   \n",
       "\n",
       "               ma5    ma10    ma20      v_ma5     v_ma10     v_ma20  turnover  \\\n",
       "date                                                                            \n",
       "2016-06-20  17.802  17.884  17.847  206140.78  209274.02  185471.22      0.05   \n",
       "2016-06-17  17.784  17.901  17.822  246880.96  217379.05  185820.88      0.09   \n",
       "2016-06-16  17.826  17.942  17.807  259573.09  218279.24  192595.99      0.17   \n",
       "2016-06-15  17.868  17.989  17.780  230898.80  223039.63  182043.00      0.14   \n",
       "2016-06-14  17.922  18.009  17.756  213946.94  214245.64  174399.73      0.10   \n",
       "2016-06-13  17.966  18.003  17.728  212407.25  207093.53  170519.96      0.16   \n",
       "\n",
       "            open_adj  high_adj  close_adj  low_adj  volume_adj       amount  \n",
       "date                                                                         \n",
       "2016-06-20     16.80     16.80      16.73    16.64   9681495.0  172507202.0  \n",
       "2016-06-17     16.64     16.86      16.65    16.63  17412233.0  311113072.0  \n",
       "2016-06-16     16.56     16.80      16.68    16.50  30871127.0  549171213.0  \n",
       "2016-06-15     16.50     16.65      16.63    16.45  26332177.0  464557383.0  \n",
       "2016-06-14     16.65     16.71      16.67    16.59  18773357.0  333449719.0  \n",
       "2016-06-13     16.74     16.81      16.66    16.65  30051583.0  536281150.0  "
      ]
     },
     "execution_count": 11,
     "metadata": {},
     "output_type": "execute_result"
    }
   ],
   "source": [
    "test = pd.merge(df_real,df_adj,left_index=True,right_index=True,suffixes=('','_adj'))\n",
    "test.to_json('test_2.json')\n",
    "test "
   ]
  },
  {
   "cell_type": "markdown",
   "metadata": {},
   "source": [
    "stock basic"
   ]
  },
  {
   "cell_type": "code",
   "execution_count": 12,
   "metadata": {
    "collapsed": false,
    "scrolled": true
   },
   "outputs": [
    {
     "data": {
      "text/html": [
       "<div>\n",
       "<table border=\"1\" class=\"dataframe\">\n",
       "  <thead>\n",
       "    <tr style=\"text-align: right;\">\n",
       "      <th></th>\n",
       "      <th>name</th>\n",
       "      <th>industry</th>\n",
       "      <th>area</th>\n",
       "      <th>pe</th>\n",
       "      <th>outstanding</th>\n",
       "      <th>totals</th>\n",
       "      <th>totalAssets</th>\n",
       "      <th>liquidAssets</th>\n",
       "      <th>fixedAssets</th>\n",
       "      <th>reserved</th>\n",
       "      <th>reservedPerShare</th>\n",
       "      <th>esp</th>\n",
       "      <th>bvps</th>\n",
       "      <th>pb</th>\n",
       "      <th>timeToMarket</th>\n",
       "    </tr>\n",
       "    <tr>\n",
       "      <th>code</th>\n",
       "      <th></th>\n",
       "      <th></th>\n",
       "      <th></th>\n",
       "      <th></th>\n",
       "      <th></th>\n",
       "      <th></th>\n",
       "      <th></th>\n",
       "      <th></th>\n",
       "      <th></th>\n",
       "      <th></th>\n",
       "      <th></th>\n",
       "      <th></th>\n",
       "      <th></th>\n",
       "      <th></th>\n",
       "      <th></th>\n",
       "    </tr>\n",
       "  </thead>\n",
       "  <tbody>\n",
       "    <tr>\n",
       "      <th>603067</th>\n",
       "      <td>振华股份</td>\n",
       "      <td>化工原料</td>\n",
       "      <td>湖北</td>\n",
       "      <td>30.92</td>\n",
       "      <td>5500.00</td>\n",
       "      <td>22000.00</td>\n",
       "      <td>98250.61</td>\n",
       "      <td>38107.15</td>\n",
       "      <td>54382.40</td>\n",
       "      <td>16483.48</td>\n",
       "      <td>0.75</td>\n",
       "      <td>0.209</td>\n",
       "      <td>4.32</td>\n",
       "      <td>3.00</td>\n",
       "      <td>20160913</td>\n",
       "    </tr>\n",
       "    <tr>\n",
       "      <th>603189</th>\n",
       "      <td>网达软件</td>\n",
       "      <td>软件服务</td>\n",
       "      <td>上海</td>\n",
       "      <td>101.46</td>\n",
       "      <td>5520.00</td>\n",
       "      <td>22080.00</td>\n",
       "      <td>40870.48</td>\n",
       "      <td>38437.19</td>\n",
       "      <td>922.97</td>\n",
       "      <td>4887.31</td>\n",
       "      <td>0.22</td>\n",
       "      <td>0.069</td>\n",
       "      <td>2.13</td>\n",
       "      <td>6.52</td>\n",
       "      <td>20160914</td>\n",
       "    </tr>\n",
       "    <tr>\n",
       "      <th>300536</th>\n",
       "      <td>农尚环境</td>\n",
       "      <td>建筑施工</td>\n",
       "      <td>湖北</td>\n",
       "      <td>27.64</td>\n",
       "      <td>2327.67</td>\n",
       "      <td>9310.73</td>\n",
       "      <td>53489.91</td>\n",
       "      <td>52143.40</td>\n",
       "      <td>1009.34</td>\n",
       "      <td>6173.12</td>\n",
       "      <td>0.66</td>\n",
       "      <td>0.260</td>\n",
       "      <td>4.17</td>\n",
       "      <td>3.44</td>\n",
       "      <td>20160920</td>\n",
       "    </tr>\n",
       "    <tr>\n",
       "      <th>300046</th>\n",
       "      <td>台基股份</td>\n",
       "      <td>半导体</td>\n",
       "      <td>湖北</td>\n",
       "      <td>147.42</td>\n",
       "      <td>13690.50</td>\n",
       "      <td>14208.00</td>\n",
       "      <td>107134.38</td>\n",
       "      <td>53198.26</td>\n",
       "      <td>15543.51</td>\n",
       "      <td>56347.88</td>\n",
       "      <td>3.97</td>\n",
       "      <td>0.072</td>\n",
       "      <td>5.38</td>\n",
       "      <td>3.96</td>\n",
       "      <td>20100120</td>\n",
       "    </tr>\n",
       "    <tr>\n",
       "      <th>603843</th>\n",
       "      <td>正平股份</td>\n",
       "      <td>建筑施工</td>\n",
       "      <td>青海</td>\n",
       "      <td>160.27</td>\n",
       "      <td>9970.00</td>\n",
       "      <td>40000.30</td>\n",
       "      <td>295740.75</td>\n",
       "      <td>250092.38</td>\n",
       "      <td>14109.87</td>\n",
       "      <td>1976.23</td>\n",
       "      <td>0.05</td>\n",
       "      <td>0.059</td>\n",
       "      <td>2.40</td>\n",
       "      <td>7.82</td>\n",
       "      <td>20160905</td>\n",
       "    </tr>\n",
       "  </tbody>\n",
       "</table>\n",
       "</div>"
      ],
      "text/plain": [
       "        name industry area      pe  outstanding    totals  totalAssets  \\\n",
       "code                                                                     \n",
       "603067  振华股份     化工原料   湖北   30.92      5500.00  22000.00     98250.61   \n",
       "603189  网达软件     软件服务   上海  101.46      5520.00  22080.00     40870.48   \n",
       "300536  农尚环境     建筑施工   湖北   27.64      2327.67   9310.73     53489.91   \n",
       "300046  台基股份      半导体   湖北  147.42     13690.50  14208.00    107134.38   \n",
       "603843  正平股份     建筑施工   青海  160.27      9970.00  40000.30    295740.75   \n",
       "\n",
       "        liquidAssets  fixedAssets  reserved  reservedPerShare    esp  bvps  \\\n",
       "code                                                                         \n",
       "603067      38107.15     54382.40  16483.48              0.75  0.209  4.32   \n",
       "603189      38437.19       922.97   4887.31              0.22  0.069  2.13   \n",
       "300536      52143.40      1009.34   6173.12              0.66  0.260  4.17   \n",
       "300046      53198.26     15543.51  56347.88              3.97  0.072  5.38   \n",
       "603843     250092.38     14109.87   1976.23              0.05  0.059  2.40   \n",
       "\n",
       "          pb  timeToMarket  \n",
       "code                        \n",
       "603067  3.00      20160913  \n",
       "603189  6.52      20160914  \n",
       "300536  3.44      20160920  \n",
       "300046  3.96      20100120  \n",
       "603843  7.82      20160905  "
      ]
     },
     "execution_count": 12,
     "metadata": {},
     "output_type": "execute_result"
    }
   ],
   "source": [
    "stock_info = ts.get_stock_basics()\n",
    "df=stock_info.head(5)\n",
    "df.to_json('test_stock_info.json')\n",
    "df"
   ]
  }
 ],
 "metadata": {
  "kernelspec": {
   "display_name": "Python 3",
   "language": "python",
   "name": "python3"
  },
  "language_info": {
   "codemirror_mode": {
    "name": "ipython",
    "version": 3
   },
   "file_extension": ".py",
   "mimetype": "text/x-python",
   "name": "python",
   "nbconvert_exporter": "python",
   "pygments_lexer": "ipython3",
   "version": "3.5.1"
  }
 },
 "nbformat": 4,
 "nbformat_minor": 0
}
