{
 "cells": [
  {
   "cell_type": "code",
   "execution_count": 2,
   "metadata": {
    "collapsed": true
   },
   "outputs": [],
   "source": [
    "import pandas as pd\n",
    "import tushare as ts\n",
    "from pandas.util.testing import assert_frame_equal"
   ]
  },
  {
   "cell_type": "markdown",
   "metadata": {},
   "source": [
    "Basic"
   ]
  },
  {
   "cell_type": "code",
   "execution_count": 3,
   "metadata": {
    "collapsed": false,
    "scrolled": true
   },
   "outputs": [
    {
     "data": {
      "text/html": [
       "<div>\n",
       "<table border=\"1\" class=\"dataframe\">\n",
       "  <thead>\n",
       "    <tr style=\"text-align: right;\">\n",
       "      <th></th>\n",
       "      <th>open</th>\n",
       "      <th>high</th>\n",
       "      <th>close</th>\n",
       "      <th>low</th>\n",
       "      <th>volume</th>\n",
       "      <th>price_change</th>\n",
       "      <th>p_change</th>\n",
       "      <th>ma5</th>\n",
       "      <th>ma10</th>\n",
       "      <th>ma20</th>\n",
       "      <th>v_ma5</th>\n",
       "      <th>v_ma10</th>\n",
       "      <th>v_ma20</th>\n",
       "      <th>turnover</th>\n",
       "    </tr>\n",
       "    <tr>\n",
       "      <th>date</th>\n",
       "      <th></th>\n",
       "      <th></th>\n",
       "      <th></th>\n",
       "      <th></th>\n",
       "      <th></th>\n",
       "      <th></th>\n",
       "      <th></th>\n",
       "      <th></th>\n",
       "      <th></th>\n",
       "      <th></th>\n",
       "      <th></th>\n",
       "      <th></th>\n",
       "      <th></th>\n",
       "      <th></th>\n",
       "    </tr>\n",
       "  </thead>\n",
       "  <tbody>\n",
       "  </tbody>\n",
       "</table>\n",
       "</div>"
      ],
      "text/plain": [
       "Empty DataFrame\n",
       "Columns: [open, high, close, low, volume, price_change, p_change, ma5, ma10, ma20, v_ma5, v_ma10, v_ma20, turnover]\n",
       "Index: []"
      ]
     },
     "execution_count": 3,
     "metadata": {},
     "output_type": "execute_result"
    }
   ],
   "source": [
    "df = ts.get_hist_data('600000',start='2000-06-10',end='2000-06-20')\n",
    "df"
   ]
  },
  {
   "cell_type": "code",
   "execution_count": 4,
   "metadata": {
    "collapsed": false
   },
   "outputs": [
    {
     "name": "stderr",
     "output_type": "stream",
     "text": [
      "d:\\env\\python\\lib\\site-packages\\ipykernel\\__main__.py:1: FutureWarning: to_datetime is deprecated. Use pd.to_datetime(...)\n",
      "  if __name__ == '__main__':\n"
     ]
    }
   ],
   "source": [
    "df = df.set_index(df.index.to_datetime())"
   ]
  },
  {
   "cell_type": "code",
   "execution_count": 5,
   "metadata": {
    "collapsed": false
   },
   "outputs": [
    {
     "data": {
      "text/html": [
       "<div>\n",
       "<table border=\"1\" class=\"dataframe\">\n",
       "  <thead>\n",
       "    <tr style=\"text-align: right;\">\n",
       "      <th></th>\n",
       "      <th>close</th>\n",
       "      <th>high</th>\n",
       "      <th>low</th>\n",
       "      <th>ma10</th>\n",
       "      <th>ma20</th>\n",
       "      <th>ma5</th>\n",
       "      <th>open</th>\n",
       "      <th>p_change</th>\n",
       "      <th>price_change</th>\n",
       "      <th>turnover</th>\n",
       "      <th>v_ma10</th>\n",
       "      <th>v_ma20</th>\n",
       "      <th>v_ma5</th>\n",
       "      <th>volume</th>\n",
       "    </tr>\n",
       "  </thead>\n",
       "  <tbody>\n",
       "  </tbody>\n",
       "</table>\n",
       "</div>"
      ],
      "text/plain": [
       "Empty DataFrame\n",
       "Columns: [close, high, low, ma10, ma20, ma5, open, p_change, price_change, turnover, v_ma10, v_ma20, v_ma5, volume]\n",
       "Index: []"
      ]
     },
     "execution_count": 5,
     "metadata": {},
     "output_type": "execute_result"
    }
   ],
   "source": [
    "df.to_json('test.json')\n",
    "df_2= pd.read_json('test.json')\n",
    "df_2.sort_index(inplace=True,ascending=False)\n",
    "df_2.set_index(df.index)"
   ]
  },
  {
   "cell_type": "code",
   "execution_count": 6,
   "metadata": {
    "collapsed": false
   },
   "outputs": [
    {
     "data": {
      "text/html": [
       "<div>\n",
       "<table border=\"1\" class=\"dataframe\">\n",
       "  <thead>\n",
       "    <tr style=\"text-align: right;\">\n",
       "      <th></th>\n",
       "      <th>close</th>\n",
       "      <th>high</th>\n",
       "      <th>low</th>\n",
       "      <th>ma10</th>\n",
       "      <th>ma20</th>\n",
       "      <th>ma5</th>\n",
       "      <th>open</th>\n",
       "      <th>p_change</th>\n",
       "      <th>price_change</th>\n",
       "      <th>turnover</th>\n",
       "      <th>v_ma10</th>\n",
       "      <th>v_ma20</th>\n",
       "      <th>v_ma5</th>\n",
       "      <th>volume</th>\n",
       "    </tr>\n",
       "  </thead>\n",
       "  <tbody>\n",
       "  </tbody>\n",
       "</table>\n",
       "</div>"
      ],
      "text/plain": [
       "Empty DataFrame\n",
       "Columns: [close, high, low, ma10, ma20, ma5, open, p_change, price_change, turnover, v_ma10, v_ma20, v_ma5, volume]\n",
       "Index: []"
      ]
     },
     "execution_count": 6,
     "metadata": {},
     "output_type": "execute_result"
    }
   ],
   "source": [
    "df.sort_index(inplace=True)\n",
    "df_2.sort_index(inplace=True)\n",
    "df.sort_index(axis=0).sort_index(axis=1)"
   ]
  },
  {
   "cell_type": "markdown",
   "metadata": {},
   "source": [
    "the method really cost time. and the data should be cached first\n",
    "ts.get_growth_data(2016,1)"
   ]
  },
  {
   "cell_type": "code",
   "execution_count": 7,
   "metadata": {
    "collapsed": false
   },
   "outputs": [],
   "source": [
    "ts.set_token('')\n",
    "#mt = ts.Master()\n",
    "#mt.TradeCal(exchangeCD='XSHG', beginDate='20150928', endDate='20151010')"
   ]
  },
  {
   "cell_type": "markdown",
   "metadata": {},
   "source": [
    "test subscription price"
   ]
  },
  {
   "cell_type": "code",
   "execution_count": 8,
   "metadata": {
    "collapsed": false
   },
   "outputs": [
    {
     "name": "stdout",
     "output_type": "stream",
     "text": [
      "[Getting data:]"
     ]
    },
    {
     "name": "stderr",
     "output_type": "stream",
     "text": [
      "d:\\env\\python\\lib\\site-packages\\tushare\\stock\\trading.py:441: FutureWarning: sort(columns=....) is deprecated, use sort_values(by=.....)\n",
      "  df = df.sort('date', ascending=False)\n"
     ]
    },
    {
     "data": {
      "text/html": [
       "<div>\n",
       "<table border=\"1\" class=\"dataframe\">\n",
       "  <thead>\n",
       "    <tr style=\"text-align: right;\">\n",
       "      <th></th>\n",
       "      <th>open</th>\n",
       "      <th>high</th>\n",
       "      <th>close</th>\n",
       "      <th>low</th>\n",
       "      <th>volume</th>\n",
       "      <th>amount</th>\n",
       "    </tr>\n",
       "    <tr>\n",
       "      <th>date</th>\n",
       "      <th></th>\n",
       "      <th></th>\n",
       "      <th></th>\n",
       "      <th></th>\n",
       "      <th></th>\n",
       "      <th></th>\n",
       "    </tr>\n",
       "  </thead>\n",
       "  <tbody>\n",
       "    <tr>\n",
       "      <th>2016-06-20</th>\n",
       "      <td>16.47</td>\n",
       "      <td>16.47</td>\n",
       "      <td>16.40</td>\n",
       "      <td>16.30</td>\n",
       "      <td>9681495.0</td>\n",
       "      <td>172507202.0</td>\n",
       "    </tr>\n",
       "    <tr>\n",
       "      <th>2016-06-17</th>\n",
       "      <td>16.30</td>\n",
       "      <td>16.52</td>\n",
       "      <td>16.32</td>\n",
       "      <td>16.29</td>\n",
       "      <td>17412233.0</td>\n",
       "      <td>311113072.0</td>\n",
       "    </tr>\n",
       "    <tr>\n",
       "      <th>2016-06-16</th>\n",
       "      <td>16.23</td>\n",
       "      <td>16.47</td>\n",
       "      <td>16.35</td>\n",
       "      <td>16.17</td>\n",
       "      <td>30871127.0</td>\n",
       "      <td>549171213.0</td>\n",
       "    </tr>\n",
       "    <tr>\n",
       "      <th>2016-06-15</th>\n",
       "      <td>16.18</td>\n",
       "      <td>16.31</td>\n",
       "      <td>16.29</td>\n",
       "      <td>16.12</td>\n",
       "      <td>26332177.0</td>\n",
       "      <td>464557383.0</td>\n",
       "    </tr>\n",
       "    <tr>\n",
       "      <th>2016-06-14</th>\n",
       "      <td>16.32</td>\n",
       "      <td>16.38</td>\n",
       "      <td>16.34</td>\n",
       "      <td>16.26</td>\n",
       "      <td>18773357.0</td>\n",
       "      <td>333449719.0</td>\n",
       "    </tr>\n",
       "    <tr>\n",
       "      <th>2016-06-13</th>\n",
       "      <td>16.40</td>\n",
       "      <td>16.48</td>\n",
       "      <td>16.33</td>\n",
       "      <td>16.32</td>\n",
       "      <td>30051583.0</td>\n",
       "      <td>536281150.0</td>\n",
       "    </tr>\n",
       "  </tbody>\n",
       "</table>\n",
       "</div>"
      ],
      "text/plain": [
       "             open   high  close    low      volume       amount\n",
       "date                                                           \n",
       "2016-06-20  16.47  16.47  16.40  16.30   9681495.0  172507202.0\n",
       "2016-06-17  16.30  16.52  16.32  16.29  17412233.0  311113072.0\n",
       "2016-06-16  16.23  16.47  16.35  16.17  30871127.0  549171213.0\n",
       "2016-06-15  16.18  16.31  16.29  16.12  26332177.0  464557383.0\n",
       "2016-06-14  16.32  16.38  16.34  16.26  18773357.0  333449719.0\n",
       "2016-06-13  16.40  16.48  16.33  16.32  30051583.0  536281150.0"
      ]
     },
     "execution_count": 8,
     "metadata": {},
     "output_type": "execute_result"
    }
   ],
   "source": [
    "df_adj= ts.get_h_data('600000', start='2016-06-10', end='2016-06-20')\n",
    "df_adj.to_json('test_3.json')\n",
    "df_adj"
   ]
  },
  {
   "cell_type": "code",
   "execution_count": 9,
   "metadata": {
    "collapsed": false
   },
   "outputs": [
    {
     "name": "stdout",
     "output_type": "stream",
     "text": [
      "[Getting data:]"
     ]
    }
   ],
   "source": [
    "df_adj_1=ts.get_h_data('600000', start='2016-06-10', end='2016-06-20', autype='hfq')"
   ]
  },
  {
   "cell_type": "code",
   "execution_count": 10,
   "metadata": {
    "collapsed": false
   },
   "outputs": [
    {
     "name": "stdout",
     "output_type": "stream",
     "text": [
      "[Getting data:]"
     ]
    }
   ],
   "source": [
    "df_adj_2 =ts.get_h_data('600000', start='2016-06-10', end='2016-06-20', autype=None) "
   ]
  },
  {
   "cell_type": "code",
   "execution_count": 11,
   "metadata": {
    "collapsed": false
   },
   "outputs": [],
   "source": [
    "df_real= ts.get_hist_data('600000',start='2016-06-10',end='2016-06-20')"
   ]
  },
  {
   "cell_type": "code",
   "execution_count": 12,
   "metadata": {
    "collapsed": false
   },
   "outputs": [
    {
     "data": {
      "text/html": [
       "<div>\n",
       "<table border=\"1\" class=\"dataframe\">\n",
       "  <thead>\n",
       "    <tr style=\"text-align: right;\">\n",
       "      <th></th>\n",
       "      <th>open</th>\n",
       "      <th>high</th>\n",
       "      <th>close</th>\n",
       "      <th>low</th>\n",
       "      <th>volume</th>\n",
       "      <th>price_change</th>\n",
       "      <th>p_change</th>\n",
       "      <th>ma5</th>\n",
       "      <th>ma10</th>\n",
       "      <th>ma20</th>\n",
       "      <th>v_ma5</th>\n",
       "      <th>v_ma10</th>\n",
       "      <th>v_ma20</th>\n",
       "      <th>turnover</th>\n",
       "      <th>open_adj</th>\n",
       "      <th>high_adj</th>\n",
       "      <th>close_adj</th>\n",
       "      <th>low_adj</th>\n",
       "      <th>volume_adj</th>\n",
       "      <th>amount</th>\n",
       "    </tr>\n",
       "    <tr>\n",
       "      <th>date</th>\n",
       "      <th></th>\n",
       "      <th></th>\n",
       "      <th></th>\n",
       "      <th></th>\n",
       "      <th></th>\n",
       "      <th></th>\n",
       "      <th></th>\n",
       "      <th></th>\n",
       "      <th></th>\n",
       "      <th></th>\n",
       "      <th></th>\n",
       "      <th></th>\n",
       "      <th></th>\n",
       "      <th></th>\n",
       "      <th></th>\n",
       "      <th></th>\n",
       "      <th></th>\n",
       "      <th></th>\n",
       "      <th></th>\n",
       "      <th></th>\n",
       "    </tr>\n",
       "  </thead>\n",
       "  <tbody>\n",
       "    <tr>\n",
       "      <th>2016-06-20</th>\n",
       "      <td>17.93</td>\n",
       "      <td>17.93</td>\n",
       "      <td>17.86</td>\n",
       "      <td>17.75</td>\n",
       "      <td>96814.95</td>\n",
       "      <td>0.09</td>\n",
       "      <td>0.51</td>\n",
       "      <td>17.802</td>\n",
       "      <td>17.884</td>\n",
       "      <td>17.847</td>\n",
       "      <td>206140.78</td>\n",
       "      <td>209274.02</td>\n",
       "      <td>185471.22</td>\n",
       "      <td>0.05</td>\n",
       "      <td>16.47</td>\n",
       "      <td>16.47</td>\n",
       "      <td>16.40</td>\n",
       "      <td>16.30</td>\n",
       "      <td>9681495.0</td>\n",
       "      <td>172507202.0</td>\n",
       "    </tr>\n",
       "    <tr>\n",
       "      <th>2016-06-17</th>\n",
       "      <td>17.75</td>\n",
       "      <td>17.99</td>\n",
       "      <td>17.79</td>\n",
       "      <td>17.74</td>\n",
       "      <td>174122.33</td>\n",
       "      <td>-0.01</td>\n",
       "      <td>-0.06</td>\n",
       "      <td>17.784</td>\n",
       "      <td>17.901</td>\n",
       "      <td>17.822</td>\n",
       "      <td>246880.96</td>\n",
       "      <td>217379.05</td>\n",
       "      <td>185820.88</td>\n",
       "      <td>0.09</td>\n",
       "      <td>16.30</td>\n",
       "      <td>16.52</td>\n",
       "      <td>16.32</td>\n",
       "      <td>16.29</td>\n",
       "      <td>17412233.0</td>\n",
       "      <td>311113072.0</td>\n",
       "    </tr>\n",
       "    <tr>\n",
       "      <th>2016-06-16</th>\n",
       "      <td>17.67</td>\n",
       "      <td>17.93</td>\n",
       "      <td>17.80</td>\n",
       "      <td>17.60</td>\n",
       "      <td>308711.28</td>\n",
       "      <td>0.06</td>\n",
       "      <td>0.34</td>\n",
       "      <td>17.826</td>\n",
       "      <td>17.942</td>\n",
       "      <td>17.807</td>\n",
       "      <td>259573.09</td>\n",
       "      <td>218279.24</td>\n",
       "      <td>192595.99</td>\n",
       "      <td>0.17</td>\n",
       "      <td>16.23</td>\n",
       "      <td>16.47</td>\n",
       "      <td>16.35</td>\n",
       "      <td>16.17</td>\n",
       "      <td>30871127.0</td>\n",
       "      <td>549171213.0</td>\n",
       "    </tr>\n",
       "    <tr>\n",
       "      <th>2016-06-15</th>\n",
       "      <td>17.61</td>\n",
       "      <td>17.76</td>\n",
       "      <td>17.76</td>\n",
       "      <td>17.55</td>\n",
       "      <td>263321.78</td>\n",
       "      <td>-0.03</td>\n",
       "      <td>-0.17</td>\n",
       "      <td>17.868</td>\n",
       "      <td>17.989</td>\n",
       "      <td>17.780</td>\n",
       "      <td>230898.80</td>\n",
       "      <td>223039.63</td>\n",
       "      <td>182043.00</td>\n",
       "      <td>0.14</td>\n",
       "      <td>16.18</td>\n",
       "      <td>16.31</td>\n",
       "      <td>16.29</td>\n",
       "      <td>16.12</td>\n",
       "      <td>26332177.0</td>\n",
       "      <td>464557383.0</td>\n",
       "    </tr>\n",
       "    <tr>\n",
       "      <th>2016-06-14</th>\n",
       "      <td>17.77</td>\n",
       "      <td>17.83</td>\n",
       "      <td>17.80</td>\n",
       "      <td>17.70</td>\n",
       "      <td>187733.56</td>\n",
       "      <td>0.02</td>\n",
       "      <td>0.11</td>\n",
       "      <td>17.922</td>\n",
       "      <td>18.009</td>\n",
       "      <td>17.756</td>\n",
       "      <td>213946.94</td>\n",
       "      <td>214245.64</td>\n",
       "      <td>174399.73</td>\n",
       "      <td>0.10</td>\n",
       "      <td>16.32</td>\n",
       "      <td>16.38</td>\n",
       "      <td>16.34</td>\n",
       "      <td>16.26</td>\n",
       "      <td>18773357.0</td>\n",
       "      <td>333449719.0</td>\n",
       "    </tr>\n",
       "    <tr>\n",
       "      <th>2016-06-13</th>\n",
       "      <td>17.86</td>\n",
       "      <td>17.94</td>\n",
       "      <td>17.77</td>\n",
       "      <td>17.77</td>\n",
       "      <td>300515.84</td>\n",
       "      <td>-0.22</td>\n",
       "      <td>-1.22</td>\n",
       "      <td>17.966</td>\n",
       "      <td>18.003</td>\n",
       "      <td>17.728</td>\n",
       "      <td>212407.25</td>\n",
       "      <td>207093.53</td>\n",
       "      <td>170519.96</td>\n",
       "      <td>0.16</td>\n",
       "      <td>16.40</td>\n",
       "      <td>16.48</td>\n",
       "      <td>16.33</td>\n",
       "      <td>16.32</td>\n",
       "      <td>30051583.0</td>\n",
       "      <td>536281150.0</td>\n",
       "    </tr>\n",
       "  </tbody>\n",
       "</table>\n",
       "</div>"
      ],
      "text/plain": [
       "             open   high  close    low     volume  price_change  p_change  \\\n",
       "date                                                                        \n",
       "2016-06-20  17.93  17.93  17.86  17.75   96814.95          0.09      0.51   \n",
       "2016-06-17  17.75  17.99  17.79  17.74  174122.33         -0.01     -0.06   \n",
       "2016-06-16  17.67  17.93  17.80  17.60  308711.28          0.06      0.34   \n",
       "2016-06-15  17.61  17.76  17.76  17.55  263321.78         -0.03     -0.17   \n",
       "2016-06-14  17.77  17.83  17.80  17.70  187733.56          0.02      0.11   \n",
       "2016-06-13  17.86  17.94  17.77  17.77  300515.84         -0.22     -1.22   \n",
       "\n",
       "               ma5    ma10    ma20      v_ma5     v_ma10     v_ma20  turnover  \\\n",
       "date                                                                            \n",
       "2016-06-20  17.802  17.884  17.847  206140.78  209274.02  185471.22      0.05   \n",
       "2016-06-17  17.784  17.901  17.822  246880.96  217379.05  185820.88      0.09   \n",
       "2016-06-16  17.826  17.942  17.807  259573.09  218279.24  192595.99      0.17   \n",
       "2016-06-15  17.868  17.989  17.780  230898.80  223039.63  182043.00      0.14   \n",
       "2016-06-14  17.922  18.009  17.756  213946.94  214245.64  174399.73      0.10   \n",
       "2016-06-13  17.966  18.003  17.728  212407.25  207093.53  170519.96      0.16   \n",
       "\n",
       "            open_adj  high_adj  close_adj  low_adj  volume_adj       amount  \n",
       "date                                                                         \n",
       "2016-06-20     16.47     16.47      16.40    16.30   9681495.0  172507202.0  \n",
       "2016-06-17     16.30     16.52      16.32    16.29  17412233.0  311113072.0  \n",
       "2016-06-16     16.23     16.47      16.35    16.17  30871127.0  549171213.0  \n",
       "2016-06-15     16.18     16.31      16.29    16.12  26332177.0  464557383.0  \n",
       "2016-06-14     16.32     16.38      16.34    16.26  18773357.0  333449719.0  \n",
       "2016-06-13     16.40     16.48      16.33    16.32  30051583.0  536281150.0  "
      ]
     },
     "execution_count": 12,
     "metadata": {},
     "output_type": "execute_result"
    }
   ],
   "source": [
    "test = pd.merge(df_real,df_adj,left_index=True,right_index=True,suffixes=('','_adj'))\n",
    "test.to_json('test_2.json')\n",
    "test "
   ]
  },
  {
   "cell_type": "markdown",
   "metadata": {},
   "source": [
    "stock basic"
   ]
  },
  {
   "cell_type": "code",
   "execution_count": 14,
   "metadata": {
    "collapsed": false,
    "scrolled": true
   },
   "outputs": [
    {
     "data": {
      "text/html": [
       "<div>\n",
       "<table border=\"1\" class=\"dataframe\">\n",
       "  <thead>\n",
       "    <tr style=\"text-align: right;\">\n",
       "      <th></th>\n",
       "      <th>name</th>\n",
       "      <th>industry</th>\n",
       "      <th>area</th>\n",
       "      <th>pe</th>\n",
       "      <th>outstanding</th>\n",
       "      <th>totals</th>\n",
       "      <th>totalAssets</th>\n",
       "      <th>liquidAssets</th>\n",
       "      <th>fixedAssets</th>\n",
       "      <th>reserved</th>\n",
       "      <th>...</th>\n",
       "      <th>bvps</th>\n",
       "      <th>pb</th>\n",
       "      <th>timeToMarket</th>\n",
       "      <th>undp</th>\n",
       "      <th>perundp</th>\n",
       "      <th>rev</th>\n",
       "      <th>profit</th>\n",
       "      <th>gpr</th>\n",
       "      <th>npr</th>\n",
       "      <th>holders</th>\n",
       "    </tr>\n",
       "    <tr>\n",
       "      <th>code</th>\n",
       "      <th></th>\n",
       "      <th></th>\n",
       "      <th></th>\n",
       "      <th></th>\n",
       "      <th></th>\n",
       "      <th></th>\n",
       "      <th></th>\n",
       "      <th></th>\n",
       "      <th></th>\n",
       "      <th></th>\n",
       "      <th></th>\n",
       "      <th></th>\n",
       "      <th></th>\n",
       "      <th></th>\n",
       "      <th></th>\n",
       "      <th></th>\n",
       "      <th></th>\n",
       "      <th></th>\n",
       "      <th></th>\n",
       "      <th></th>\n",
       "      <th></th>\n",
       "    </tr>\n",
       "  </thead>\n",
       "  <tbody>\n",
       "    <tr>\n",
       "      <th>603877</th>\n",
       "      <td>N太平鸟</td>\n",
       "      <td>服饰</td>\n",
       "      <td>浙江</td>\n",
       "      <td>45.81</td>\n",
       "      <td>0.55</td>\n",
       "      <td>4.75</td>\n",
       "      <td>445669.50</td>\n",
       "      <td>328332.25</td>\n",
       "      <td>45125.05</td>\n",
       "      <td>30757.88</td>\n",
       "      <td>...</td>\n",
       "      <td>4.30</td>\n",
       "      <td>7.13</td>\n",
       "      <td>20170109</td>\n",
       "      <td>100412.11</td>\n",
       "      <td>2.11</td>\n",
       "      <td>0.00</td>\n",
       "      <td>0.00</td>\n",
       "      <td>56.29</td>\n",
       "      <td>6.07</td>\n",
       "      <td>52511</td>\n",
       "    </tr>\n",
       "    <tr>\n",
       "      <th>601678</th>\n",
       "      <td>滨化股份</td>\n",
       "      <td>化工原料</td>\n",
       "      <td>山东</td>\n",
       "      <td>50.35</td>\n",
       "      <td>11.88</td>\n",
       "      <td>11.88</td>\n",
       "      <td>700574.88</td>\n",
       "      <td>124637.02</td>\n",
       "      <td>383505.53</td>\n",
       "      <td>127384.57</td>\n",
       "      <td>...</td>\n",
       "      <td>4.01</td>\n",
       "      <td>1.97</td>\n",
       "      <td>20100223</td>\n",
       "      <td>190667.50</td>\n",
       "      <td>1.60</td>\n",
       "      <td>-6.83</td>\n",
       "      <td>-59.11</td>\n",
       "      <td>21.80</td>\n",
       "      <td>4.16</td>\n",
       "      <td>45679</td>\n",
       "    </tr>\n",
       "    <tr>\n",
       "      <th>601375</th>\n",
       "      <td>中原证券</td>\n",
       "      <td>证券</td>\n",
       "      <td>河南</td>\n",
       "      <td>45.18</td>\n",
       "      <td>7.00</td>\n",
       "      <td>39.24</td>\n",
       "      <td>4080920.00</td>\n",
       "      <td>0.00</td>\n",
       "      <td>0.00</td>\n",
       "      <td>0.00</td>\n",
       "      <td>...</td>\n",
       "      <td>2.49</td>\n",
       "      <td>3.39</td>\n",
       "      <td>20170103</td>\n",
       "      <td>0.00</td>\n",
       "      <td>0.00</td>\n",
       "      <td>-49.48</td>\n",
       "      <td>-56.24</td>\n",
       "      <td>0.00</td>\n",
       "      <td>34.57</td>\n",
       "      <td>602819</td>\n",
       "    </tr>\n",
       "    <tr>\n",
       "      <th>600178</th>\n",
       "      <td>东安动力</td>\n",
       "      <td>汽车配件</td>\n",
       "      <td>黑龙江</td>\n",
       "      <td>61.94</td>\n",
       "      <td>4.62</td>\n",
       "      <td>4.62</td>\n",
       "      <td>411945.47</td>\n",
       "      <td>209152.13</td>\n",
       "      <td>28719.20</td>\n",
       "      <td>85994.00</td>\n",
       "      <td>...</td>\n",
       "      <td>3.94</td>\n",
       "      <td>3.26</td>\n",
       "      <td>19981014</td>\n",
       "      <td>25635.60</td>\n",
       "      <td>0.55</td>\n",
       "      <td>116.20</td>\n",
       "      <td>92.67</td>\n",
       "      <td>11.24</td>\n",
       "      <td>4.05</td>\n",
       "      <td>28149</td>\n",
       "    </tr>\n",
       "    <tr>\n",
       "      <th>600814</th>\n",
       "      <td>杭州解百</td>\n",
       "      <td>百货</td>\n",
       "      <td>浙江</td>\n",
       "      <td>49.45</td>\n",
       "      <td>3.10</td>\n",
       "      <td>7.15</td>\n",
       "      <td>453870.50</td>\n",
       "      <td>222213.97</td>\n",
       "      <td>100949.13</td>\n",
       "      <td>1428.49</td>\n",
       "      <td>...</td>\n",
       "      <td>2.90</td>\n",
       "      <td>4.32</td>\n",
       "      <td>19940114</td>\n",
       "      <td>122402.63</td>\n",
       "      <td>1.71</td>\n",
       "      <td>-6.20</td>\n",
       "      <td>-20.35</td>\n",
       "      <td>22.75</td>\n",
       "      <td>3.77</td>\n",
       "      <td>28522</td>\n",
       "    </tr>\n",
       "  </tbody>\n",
       "</table>\n",
       "<p>5 rows × 22 columns</p>\n",
       "</div>"
      ],
      "text/plain": [
       "        name industry area     pe  outstanding  totals  totalAssets  \\\n",
       "code                                                                  \n",
       "603877  N太平鸟       服饰   浙江  45.81         0.55    4.75    445669.50   \n",
       "601678  滨化股份     化工原料   山东  50.35        11.88   11.88    700574.88   \n",
       "601375  中原证券       证券   河南  45.18         7.00   39.24   4080920.00   \n",
       "600178  东安动力     汽车配件  黑龙江  61.94         4.62    4.62    411945.47   \n",
       "600814  杭州解百       百货   浙江  49.45         3.10    7.15    453870.50   \n",
       "\n",
       "        liquidAssets  fixedAssets   reserved   ...     bvps    pb  \\\n",
       "code                                           ...                  \n",
       "603877     328332.25     45125.05   30757.88   ...     4.30  7.13   \n",
       "601678     124637.02    383505.53  127384.57   ...     4.01  1.97   \n",
       "601375          0.00         0.00       0.00   ...     2.49  3.39   \n",
       "600178     209152.13     28719.20   85994.00   ...     3.94  3.26   \n",
       "600814     222213.97    100949.13    1428.49   ...     2.90  4.32   \n",
       "\n",
       "        timeToMarket       undp  perundp     rev  profit    gpr    npr  \\\n",
       "code                                                                     \n",
       "603877      20170109  100412.11     2.11    0.00    0.00  56.29   6.07   \n",
       "601678      20100223  190667.50     1.60   -6.83  -59.11  21.80   4.16   \n",
       "601375      20170103       0.00     0.00  -49.48  -56.24   0.00  34.57   \n",
       "600178      19981014   25635.60     0.55  116.20   92.67  11.24   4.05   \n",
       "600814      19940114  122402.63     1.71   -6.20  -20.35  22.75   3.77   \n",
       "\n",
       "        holders  \n",
       "code             \n",
       "603877    52511  \n",
       "601678    45679  \n",
       "601375   602819  \n",
       "600178    28149  \n",
       "600814    28522  \n",
       "\n",
       "[5 rows x 22 columns]"
      ]
     },
     "execution_count": 14,
     "metadata": {},
     "output_type": "execute_result"
    }
   ],
   "source": [
    "stock_info = ts.get_stock_basics()\n",
    "stock_info.to_json('test_stock_info_whole.json')\n",
    "df=stock_info.head(5)\n",
    "df.to_json('test_stock_info.json')\n",
    "df"
   ]
  }
 ],
 "metadata": {
  "kernelspec": {
   "display_name": "Python 3",
   "language": "python",
   "name": "python3"
  },
  "language_info": {
   "codemirror_mode": {
    "name": "ipython",
    "version": 3
   },
   "file_extension": ".py",
   "mimetype": "text/x-python",
   "name": "python",
   "nbconvert_exporter": "python",
   "pygments_lexer": "ipython3",
   "version": "3.5.1"
  }
 },
 "nbformat": 4,
 "nbformat_minor": 0
}
