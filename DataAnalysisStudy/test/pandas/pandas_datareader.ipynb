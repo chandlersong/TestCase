{
 "cells": [
  {
   "cell_type": "code",
   "execution_count": 10,
   "metadata": {
    "collapsed": true
   },
   "outputs": [],
   "source": [
    "import pandas_datareader.data as web\n",
    "import datetime"
   ]
  },
  {
   "cell_type": "code",
   "execution_count": 11,
   "metadata": {
    "collapsed": true
   },
   "outputs": [],
   "source": [
    "start = datetime.datetime(2016, 6, 10)\n",
    "end = datetime.datetime(2016, 6, 20)"
   ]
  },
  {
   "cell_type": "code",
   "execution_count": 12,
   "metadata": {
    "collapsed": false
   },
   "outputs": [
    {
     "data": {
      "text/html": [
       "<div>\n",
       "<table border=\"1\" class=\"dataframe\">\n",
       "  <thead>\n",
       "    <tr style=\"text-align: right;\">\n",
       "      <th></th>\n",
       "      <th>Open</th>\n",
       "      <th>High</th>\n",
       "      <th>Low</th>\n",
       "      <th>Close</th>\n",
       "      <th>Volume</th>\n",
       "      <th>Adj Close</th>\n",
       "    </tr>\n",
       "    <tr>\n",
       "      <th>Date</th>\n",
       "      <th></th>\n",
       "      <th></th>\n",
       "      <th></th>\n",
       "      <th></th>\n",
       "      <th></th>\n",
       "      <th></th>\n",
       "    </tr>\n",
       "  </thead>\n",
       "  <tbody>\n",
       "    <tr>\n",
       "      <th>2016-06-13</th>\n",
       "      <td>2833.07</td>\n",
       "      <td>2833.07</td>\n",
       "      <td>2833.07</td>\n",
       "      <td>2833.07</td>\n",
       "      <td>0</td>\n",
       "      <td>2833.07</td>\n",
       "    </tr>\n",
       "    <tr>\n",
       "      <th>2016-06-14</th>\n",
       "      <td>2842.19</td>\n",
       "      <td>2842.19</td>\n",
       "      <td>2842.19</td>\n",
       "      <td>2842.19</td>\n",
       "      <td>0</td>\n",
       "      <td>2842.19</td>\n",
       "    </tr>\n",
       "    <tr>\n",
       "      <th>2016-06-15</th>\n",
       "      <td>2887.21</td>\n",
       "      <td>2887.21</td>\n",
       "      <td>2887.21</td>\n",
       "      <td>2887.21</td>\n",
       "      <td>0</td>\n",
       "      <td>2887.21</td>\n",
       "    </tr>\n",
       "    <tr>\n",
       "      <th>2016-06-16</th>\n",
       "      <td>2872.82</td>\n",
       "      <td>2872.82</td>\n",
       "      <td>2872.82</td>\n",
       "      <td>2872.82</td>\n",
       "      <td>0</td>\n",
       "      <td>2872.82</td>\n",
       "    </tr>\n",
       "    <tr>\n",
       "      <th>2016-06-17</th>\n",
       "      <td>2885.10</td>\n",
       "      <td>2885.10</td>\n",
       "      <td>2885.10</td>\n",
       "      <td>2885.10</td>\n",
       "      <td>0</td>\n",
       "      <td>2885.10</td>\n",
       "    </tr>\n",
       "  </tbody>\n",
       "</table>\n",
       "</div>"
      ],
      "text/plain": [
       "               Open     High      Low    Close  Volume  Adj Close\n",
       "Date                                                             \n",
       "2016-06-13  2833.07  2833.07  2833.07  2833.07       0    2833.07\n",
       "2016-06-14  2842.19  2842.19  2842.19  2842.19       0    2842.19\n",
       "2016-06-15  2887.21  2887.21  2887.21  2887.21       0    2887.21\n",
       "2016-06-16  2872.82  2872.82  2872.82  2872.82       0    2872.82\n",
       "2016-06-17  2885.10  2885.10  2885.10  2885.10       0    2885.10"
      ]
     },
     "execution_count": 12,
     "metadata": {},
     "output_type": "execute_result"
    }
   ],
   "source": [
    "shanghai = web.DataReader(\"000001.ss\", 'yahoo', start, end)\n",
    "shanghai"
   ]
  }
 ],
 "metadata": {
  "kernelspec": {
   "display_name": "Python 3",
   "language": "python",
   "name": "python3"
  },
  "language_info": {
   "codemirror_mode": {
    "name": "ipython",
    "version": 3
   },
   "file_extension": ".py",
   "mimetype": "text/x-python",
   "name": "python",
   "nbconvert_exporter": "python",
   "pygments_lexer": "ipython3",
   "version": "3.5.1"
  }
 },
 "nbformat": 4,
 "nbformat_minor": 0
}
